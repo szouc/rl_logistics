{
 "cells": [
  {
   "cell_type": "code",
   "execution_count": 1,
   "metadata": {},
   "outputs": [],
   "source": [
    "%matplotlib inline\n",
    "\n",
    "import numpy as np\n",
    "import matplotlib\n",
    "import sys\n",
    "import math\n",
    "import gym\n",
    "from gym import spaces\n",
    "from gym.utils import seeding\n",
    "\n",
    "\n",
    "\n",
    "from collections import defaultdict\n",
    "if \"../\" not in sys.path:\n",
    "  sys.path.append(\"../\") \n",
    "\n",
    "\n",
    "matplotlib.style.use('ggplot')"
   ]
  },
  {
   "cell_type": "code",
   "execution_count": 2,
   "metadata": {},
   "outputs": [],
   "source": [
    "class Choice(gym.Space):\n",
    "\n",
    "    def __init__(self, choice):\n",
    "        self.choice = choice\n",
    "        gym.Space.__init__(self, (), np.int64)\n",
    "\n",
    "    def sample(self):\n",
    "        return gym.spaces.np_random.choice(self.choice)\n",
    "\n",
    "    def contains(self, x):\n",
    "        if isinstance(x, int):\n",
    "            as_int = x\n",
    "        elif isinstance(x, (np.generic, np.ndarray)) and (x.dtype.kind in np.typecodes['AllInteger'] and x.shape == ()):\n",
    "            as_int = int(x)\n",
    "        else:\n",
    "            return False\n",
    "        return as_int in self.choice\n",
    "\n",
    "    def __repr__(self):\n",
    "        return \"Choice({})\".format(self.choice)\n",
    "\n",
    "    def __eq__(self, other):\n",
    "        return self.choice == other.choice"
   ]
  },
  {
   "cell_type": "code",
   "execution_count": 117,
   "metadata": {},
   "outputs": [],
   "source": [
    "import numpy as np\n",
    "import math\n",
    "\n",
    "import gym\n",
    "from gym import spaces\n",
    "from gym.utils import seeding\n",
    "\n",
    "kinds = [2, 3, 6]\n",
    "\n",
    "\n",
    "class LogisticsEnv(gym.Env):\n",
    "    metadata = {\n",
    "        'render.modes': ['human', 'rgb_array'],\n",
    "        'video.frames_per_second': 30\n",
    "    }\n",
    "\n",
    "    def __init__(self, orders=10, vehicles=10, kinds=3, vehicle_beta=0.5, driver_beta=0.5):\n",
    "        self.vehicles = vehicles\n",
    "        self.orders = orders\n",
    "        self.kinds = kinds\n",
    "        self.vehicle_beta = vehicle_beta\n",
    "        self.driver_beta = driver_beta\n",
    "        self.action_space = spaces.MultiDiscrete(\n",
    "            (self.orders, self.vehicles, self.kinds))\n",
    "        self.observation_space = spaces.Tuple((spaces.MultiBinary(\n",
    "            self.orders), spaces.MultiBinary(self.vehicles), spaces.MultiDiscrete([7 for _ in range(self.vehicles)])))\n",
    "\n",
    "        self.seed()\n",
    "        self.reset()\n",
    "\n",
    "    def seed(self, seed=None):\n",
    "        self.np_random, seed = seeding.np_random(seed)\n",
    "        return [seed]\n",
    "\n",
    "    def step(self, action):\n",
    "        assert self.action_space.contains(\n",
    "            action), \"%r (%s) invalid\" % (action, type(action))\n",
    "\n",
    "        (order_index, vehicle_index, kind_index) = action\n",
    "        order_flags, vehicle_flags, vehicle_costs = self.state\n",
    "        cost = kinds[kind_index]\n",
    "\n",
    "        if order_flags[order_index] == 1:\n",
    "            reward = 0\n",
    "        elif vehicle_costs[vehicle_index] + cost > 6:\n",
    "            reward = 0\n",
    "        else:\n",
    "            vehicle_times = vehicle_flags[vehicle_index]\n",
    "            vi = vehicle_costs[vehicle_index]\n",
    "            vehicle_weight = vi / (cost + vi)\n",
    "            driver_weight = cost / (cost + vi)\n",
    "            reward = -1 * 1 / (1 + math.e ** (-vehicle_times * vehicle_weight * self.vehicle_beta)) + - \\\n",
    "                1 * 1 / (1 + math.e ** (vehicle_times *\n",
    "                                        driver_weight * self.driver_beta))\n",
    "\n",
    "            order_flags[order_index] = 1\n",
    "            vehicle_flags[vehicle_index] += 1\n",
    "            vehicle_costs[vehicle_index] += cost\n",
    "            self.state = (order_flags, vehicle_flags, vehicle_costs)\n",
    "\n",
    "        done = self._terminal()\n",
    "\n",
    "        return self._get_obs(self.state), reward, done, {}\n",
    "\n",
    "    def _get_obs(self, state):\n",
    "        tuple_state = tuple(tuple(s) for s in state)\n",
    "        return tuple_state\n",
    "\n",
    "    def reset(self):\n",
    "        self.state = (np.zeros((self.orders,), dtype=int),\n",
    "                      np.zeros((self.vehicles,), dtype=int),\n",
    "                      np.zeros((self.vehicles,), dtype=int))\n",
    "        return self._get_obs(self.state)\n",
    "\n",
    "    def _terminal(self):\n",
    "        s, _, v = self.state\n",
    "        return sum(s) == self.orders or min(v) >= 5\n"
   ]
  },
  {
   "cell_type": "code",
   "execution_count": 129,
   "metadata": {},
   "outputs": [],
   "source": [
    "vehicles = 20\n",
    "orders = 50\n",
    "action_space = spaces.MultiDiscrete((orders, vehicles,3))\n",
    "observation_space = spaces.Tuple((spaces.MultiBinary(orders), spaces.MultiBinary(vehicles), spaces.MultiDiscrete([7 for _ in range(vehicles)])))"
   ]
  },
  {
   "cell_type": "code",
   "execution_count": 162,
   "metadata": {},
   "outputs": [
    {
     "data": {
      "text/plain": [
       "array([50, 20,  3])"
      ]
     },
     "execution_count": 162,
     "metadata": {},
     "output_type": "execute_result"
    }
   ],
   "source": [
    "action_space.nvec"
   ]
  },
  {
   "cell_type": "code",
   "execution_count": 170,
   "metadata": {},
   "outputs": [
    {
     "name": "stdout",
     "output_type": "stream",
     "text": [
      "50\n",
      "20\n",
      "3\n"
     ]
    }
   ],
   "source": [
    "for i in action_space.nvec:\n",
    "    print(i)"
   ]
  },
  {
   "cell_type": "code",
   "execution_count": 169,
   "metadata": {},
   "outputs": [
    {
     "name": "stdout",
     "output_type": "stream",
     "text": [
      "3000\n"
     ]
    },
    {
     "data": {
      "text/plain": [
       "64"
      ]
     },
     "execution_count": 169,
     "metadata": {},
     "output_type": "execute_result"
    }
   ],
   "source": [
    "a,b,c = action_space.nvec\n",
    "t = np.zeros(action_space.nvec, dtype=int)\n",
    "\n",
    "count = 0\n",
    "for i in range(a):\n",
    "    for j in range(b):\n",
    "        for k in range(c):\n",
    "            t[i,j,k] = count\n",
    "            count += 1\n",
    "print(count)\n",
    "t[1,1,1]"
   ]
  },
  {
   "cell_type": "code",
   "execution_count": 130,
   "metadata": {},
   "outputs": [],
   "source": [
    "arr = []\n",
    "for _ in range(1000):\n",
    "    arr.append(action_space.sample())"
   ]
  },
  {
   "cell_type": "code",
   "execution_count": 131,
   "metadata": {},
   "outputs": [
    {
     "name": "stdout",
     "output_type": "stream",
     "text": [
      "((0, 0, 0, 0, 0, 0, 0, 0, 0, 0, 0, 0, 0, 0, 1, 0, 0, 0, 0, 0, 0, 0, 0, 0, 0, 0, 0, 0, 0, 0, 0, 0, 0, 0, 0, 0, 0, 0, 0, 0, 0, 0, 0, 0, 0, 0, 0, 0, 0, 0), (0, 0, 0, 0, 0, 0, 0, 0, 0, 0, 0, 0, 0, 0, 0, 1, 0, 0, 0, 0), (0, 0, 0, 0, 0, 0, 0, 0, 0, 0, 0, 0, 0, 0, 0, 3, 0, 0, 0, 0))--1.0-False\n",
      "((0, 0, 0, 0, 0, 0, 0, 0, 0, 0, 0, 0, 0, 0, 1, 0, 0, 0, 0, 0, 0, 0, 0, 0, 0, 0, 0, 0, 0, 0, 1, 0, 0, 0, 0, 0, 0, 0, 0, 0, 0, 0, 0, 0, 0, 0, 0, 0, 0, 0), (0, 1, 0, 0, 0, 0, 0, 0, 0, 0, 0, 0, 0, 0, 0, 1, 0, 0, 0, 0), (0, 3, 0, 0, 0, 0, 0, 0, 0, 0, 0, 0, 0, 0, 0, 3, 0, 0, 0, 0))--1.0-False\n",
      "((0, 0, 0, 0, 0, 0, 0, 0, 0, 0, 0, 0, 0, 0, 1, 0, 0, 0, 0, 0, 0, 0, 0, 0, 0, 0, 0, 0, 0, 0, 1, 0, 0, 1, 0, 0, 0, 0, 0, 0, 0, 0, 0, 0, 0, 0, 0, 0, 0, 0), (0, 1, 0, 0, 0, 0, 0, 0, 0, 0, 0, 0, 0, 0, 0, 1, 1, 0, 0, 0), (0, 3, 0, 0, 0, 0, 0, 0, 0, 0, 0, 0, 0, 0, 0, 3, 3, 0, 0, 0))--1.0-False\n",
      "((0, 0, 0, 0, 0, 0, 0, 0, 0, 0, 0, 0, 0, 0, 1, 0, 0, 0, 0, 0, 0, 0, 0, 0, 0, 0, 0, 0, 1, 0, 1, 0, 0, 1, 0, 0, 0, 0, 0, 0, 0, 0, 0, 0, 0, 0, 0, 0, 0, 0), (0, 1, 0, 0, 0, 0, 0, 0, 0, 0, 0, 0, 0, 0, 1, 1, 1, 0, 0, 0), (0, 3, 0, 0, 0, 0, 0, 0, 0, 0, 0, 0, 0, 0, 3, 3, 3, 0, 0, 0))--1.0-False\n",
      "((0, 0, 0, 0, 0, 0, 0, 0, 0, 0, 0, 0, 0, 0, 1, 0, 0, 0, 0, 0, 0, 1, 0, 0, 0, 0, 0, 0, 1, 0, 1, 0, 0, 1, 0, 0, 0, 0, 0, 0, 0, 0, 0, 0, 0, 0, 0, 0, 0, 0), (0, 1, 0, 0, 0, 0, 1, 0, 0, 0, 0, 0, 0, 0, 1, 1, 1, 0, 0, 0), (0, 3, 0, 0, 0, 0, 2, 0, 0, 0, 0, 0, 0, 0, 3, 3, 3, 0, 0, 0))--1.0-False\n",
      "((0, 0, 0, 0, 0, 0, 0, 0, 0, 0, 0, 0, 0, 0, 1, 0, 0, 0, 0, 0, 0, 1, 0, 0, 0, 0, 0, 0, 1, 0, 1, 0, 0, 1, 0, 0, 0, 0, 1, 0, 0, 0, 0, 0, 0, 0, 0, 0, 0, 0), (0, 1, 0, 0, 0, 0, 1, 0, 0, 0, 1, 0, 0, 0, 1, 1, 1, 0, 0, 0), (0, 3, 0, 0, 0, 0, 2, 0, 0, 0, 6, 0, 0, 0, 3, 3, 3, 0, 0, 0))--1.0-False\n",
      "((0, 0, 0, 0, 0, 0, 0, 0, 0, 0, 0, 0, 0, 0, 1, 0, 0, 0, 0, 0, 0, 1, 0, 0, 0, 0, 0, 0, 1, 0, 1, 0, 0, 1, 0, 0, 0, 0, 1, 1, 0, 0, 0, 0, 0, 0, 0, 0, 0, 0), (0, 1, 0, 0, 0, 0, 1, 0, 0, 0, 1, 0, 0, 0, 1, 1, 1, 1, 0, 0), (0, 3, 0, 0, 0, 0, 2, 0, 0, 0, 6, 0, 0, 0, 3, 3, 3, 2, 0, 0))--1.0-False\n",
      "((0, 0, 0, 0, 0, 0, 1, 0, 0, 0, 0, 0, 0, 0, 1, 0, 0, 0, 0, 0, 0, 1, 0, 0, 0, 0, 0, 0, 1, 0, 1, 0, 0, 1, 0, 0, 0, 0, 1, 1, 0, 0, 0, 0, 0, 0, 0, 0, 0, 0), (0, 1, 0, 0, 0, 0, 1, 0, 0, 1, 1, 0, 0, 0, 1, 1, 1, 1, 0, 0), (0, 3, 0, 0, 0, 0, 2, 0, 0, 2, 6, 0, 0, 0, 3, 3, 3, 2, 0, 0))--1.0-False\n",
      "((0, 0, 0, 0, 0, 0, 1, 0, 0, 0, 0, 0, 0, 0, 1, 0, 0, 0, 0, 1, 0, 1, 0, 0, 0, 0, 0, 0, 1, 0, 1, 0, 0, 1, 0, 0, 0, 0, 1, 1, 0, 0, 0, 0, 0, 0, 0, 0, 0, 0), (0, 1, 0, 0, 0, 0, 1, 1, 0, 1, 1, 0, 0, 0, 1, 1, 1, 1, 0, 0), (0, 3, 0, 0, 0, 0, 2, 3, 0, 2, 6, 0, 0, 0, 3, 3, 3, 2, 0, 0))--1.0-False\n",
      "((0, 0, 0, 0, 0, 0, 1, 0, 0, 0, 0, 0, 0, 0, 1, 0, 0, 1, 0, 1, 0, 1, 0, 0, 0, 0, 0, 0, 1, 0, 1, 0, 0, 1, 0, 0, 0, 0, 1, 1, 0, 0, 0, 0, 0, 0, 0, 0, 0, 0), (0, 1, 0, 1, 0, 0, 1, 1, 0, 1, 1, 0, 0, 0, 1, 1, 1, 1, 0, 0), (0, 3, 0, 6, 0, 0, 2, 3, 0, 2, 6, 0, 0, 0, 3, 3, 3, 2, 0, 0))--1.0-False\n",
      "((0, 0, 0, 1, 0, 0, 1, 0, 0, 0, 0, 0, 0, 0, 1, 0, 0, 1, 0, 1, 0, 1, 0, 0, 0, 0, 0, 0, 1, 0, 1, 0, 0, 1, 0, 0, 0, 0, 1, 1, 0, 0, 0, 0, 0, 0, 0, 0, 0, 0), (0, 1, 0, 1, 0, 0, 1, 1, 0, 1, 1, 1, 0, 0, 1, 1, 1, 1, 0, 0), (0, 3, 0, 6, 0, 0, 2, 3, 0, 2, 6, 3, 0, 0, 3, 3, 3, 2, 0, 0))--1.0-False\n",
      "((0, 0, 0, 1, 0, 0, 1, 0, 0, 0, 0, 0, 0, 0, 1, 0, 0, 1, 0, 1, 0, 1, 0, 0, 0, 0, 0, 0, 1, 0, 1, 0, 0, 1, 0, 0, 0, 0, 1, 1, 0, 1, 0, 0, 0, 0, 0, 0, 0, 0), (0, 1, 0, 1, 0, 0, 1, 1, 0, 1, 1, 1, 0, 0, 2, 1, 1, 1, 0, 0), (0, 3, 0, 6, 0, 0, 2, 3, 0, 2, 6, 3, 0, 0, 5, 3, 3, 2, 0, 0))--1.0469686461133434-False\n",
      "((0, 0, 0, 1, 0, 0, 1, 1, 0, 0, 0, 0, 0, 0, 1, 0, 0, 1, 0, 1, 0, 1, 0, 0, 0, 0, 0, 0, 1, 0, 1, 0, 0, 1, 0, 0, 0, 0, 1, 1, 0, 1, 0, 0, 0, 0, 0, 0, 0, 0), (0, 1, 1, 1, 0, 0, 1, 1, 0, 1, 1, 1, 0, 0, 2, 1, 1, 1, 0, 0), (0, 3, 3, 6, 0, 0, 2, 3, 0, 2, 6, 3, 0, 0, 5, 3, 3, 2, 0, 0))--1.0-False\n",
      "((0, 0, 0, 1, 1, 0, 1, 1, 0, 0, 0, 0, 0, 0, 1, 0, 0, 1, 0, 1, 0, 1, 0, 0, 0, 0, 0, 0, 1, 0, 1, 0, 0, 1, 0, 0, 0, 0, 1, 1, 0, 1, 0, 0, 0, 0, 0, 0, 0, 0), (0, 1, 1, 1, 0, 1, 1, 1, 0, 1, 1, 1, 0, 0, 2, 1, 1, 1, 0, 0), (0, 3, 3, 6, 0, 3, 2, 3, 0, 2, 6, 3, 0, 0, 5, 3, 3, 2, 0, 0))--1.0-False\n",
      "((0, 0, 0, 1, 1, 0, 1, 1, 0, 0, 1, 0, 0, 0, 1, 0, 0, 1, 0, 1, 0, 1, 0, 0, 0, 0, 0, 0, 1, 0, 1, 0, 0, 1, 0, 0, 0, 0, 1, 1, 0, 1, 0, 0, 0, 0, 0, 0, 0, 0), (0, 1, 1, 1, 1, 1, 1, 1, 0, 1, 1, 1, 0, 0, 2, 1, 1, 1, 0, 0), (0, 3, 3, 6, 6, 3, 2, 3, 0, 2, 6, 3, 0, 0, 5, 3, 3, 2, 0, 0))--1.0-False\n",
      "((0, 0, 0, 1, 1, 0, 1, 1, 0, 0, 1, 0, 0, 0, 1, 0, 0, 1, 0, 1, 0, 1, 0, 0, 0, 0, 0, 0, 1, 0, 1, 0, 0, 1, 0, 0, 0, 1, 1, 1, 0, 1, 0, 0, 0, 0, 0, 0, 0, 0), (0, 1, 1, 1, 1, 1, 1, 1, 0, 1, 1, 1, 0, 0, 2, 1, 2, 1, 0, 0), (0, 3, 3, 6, 6, 3, 2, 3, 0, 2, 6, 3, 0, 0, 5, 3, 5, 2, 0, 0))--1.0469686461133434-False\n",
      "((0, 0, 0, 1, 1, 0, 1, 1, 0, 0, 1, 0, 0, 0, 1, 0, 0, 1, 0, 1, 0, 1, 0, 0, 0, 0, 0, 0, 1, 0, 1, 0, 0, 1, 0, 1, 0, 1, 1, 1, 0, 1, 0, 0, 0, 0, 0, 0, 0, 0), (0, 1, 1, 1, 1, 1, 1, 1, 0, 1, 1, 1, 1, 0, 2, 1, 2, 1, 0, 0), (0, 3, 3, 6, 6, 3, 2, 3, 0, 2, 6, 3, 2, 0, 5, 3, 5, 2, 0, 0))--1.0-False\n",
      "((0, 0, 0, 1, 1, 0, 1, 1, 0, 0, 1, 0, 0, 0, 1, 0, 0, 1, 0, 1, 0, 1, 0, 0, 0, 0, 0, 0, 1, 0, 1, 0, 0, 1, 0, 1, 0, 1, 1, 1, 0, 1, 0, 0, 0, 0, 1, 0, 0, 0), (0, 2, 1, 1, 1, 1, 1, 1, 0, 1, 1, 1, 1, 0, 2, 1, 2, 1, 0, 0), (0, 6, 3, 6, 6, 3, 2, 3, 0, 2, 6, 3, 2, 0, 5, 3, 5, 2, 0, 0))--1.0-False\n",
      "((0, 0, 0, 1, 1, 0, 1, 1, 0, 0, 1, 0, 0, 0, 1, 0, 0, 1, 0, 1, 0, 1, 0, 0, 0, 0, 0, 0, 1, 0, 1, 0, 0, 1, 0, 1, 0, 1, 1, 1, 0, 1, 0, 0, 0, 0, 1, 0, 1, 0), (0, 2, 1, 1, 1, 1, 1, 1, 0, 1, 1, 2, 1, 0, 2, 1, 2, 1, 0, 0), (0, 6, 3, 6, 6, 3, 2, 3, 0, 2, 6, 6, 2, 0, 5, 3, 5, 2, 0, 0))--1.0-False\n",
      "((1, 0, 0, 1, 1, 0, 1, 1, 0, 0, 1, 0, 0, 0, 1, 0, 0, 1, 0, 1, 0, 1, 0, 0, 0, 0, 0, 0, 1, 0, 1, 0, 0, 1, 0, 1, 0, 1, 1, 1, 0, 1, 0, 0, 0, 0, 1, 0, 1, 0), (1, 2, 1, 1, 1, 1, 1, 1, 0, 1, 1, 2, 1, 0, 2, 1, 2, 1, 0, 0), (2, 6, 3, 6, 6, 3, 2, 3, 0, 2, 6, 6, 2, 0, 5, 3, 5, 2, 0, 0))--1.0-False\n",
      "((1, 0, 0, 1, 1, 0, 1, 1, 0, 0, 1, 0, 0, 0, 1, 0, 0, 1, 0, 1, 0, 1, 0, 0, 0, 0, 0, 0, 1, 0, 1, 0, 0, 1, 0, 1, 0, 1, 1, 1, 0, 1, 0, 0, 0, 0, 1, 1, 1, 0), (1, 2, 1, 1, 1, 1, 1, 2, 0, 1, 1, 2, 1, 0, 2, 1, 2, 1, 0, 0), (2, 6, 3, 6, 6, 3, 2, 6, 0, 2, 6, 6, 2, 0, 5, 3, 5, 2, 0, 0))--1.0-False\n",
      "((1, 0, 0, 1, 1, 0, 1, 1, 0, 0, 1, 0, 0, 0, 1, 0, 0, 1, 0, 1, 1, 1, 0, 0, 0, 0, 0, 0, 1, 0, 1, 0, 0, 1, 0, 1, 0, 1, 1, 1, 0, 1, 0, 0, 0, 0, 1, 1, 1, 0), (1, 2, 1, 1, 1, 2, 1, 2, 0, 1, 1, 2, 1, 0, 2, 1, 2, 1, 0, 0), (2, 6, 3, 6, 6, 5, 2, 6, 0, 2, 6, 6, 2, 0, 5, 3, 5, 2, 0, 0))--1.0469686461133434-False\n",
      "((1, 0, 0, 1, 1, 0, 1, 1, 0, 0, 1, 0, 0, 0, 1, 0, 0, 1, 0, 1, 1, 1, 0, 0, 0, 0, 0, 0, 1, 0, 1, 0, 0, 1, 0, 1, 0, 1, 1, 1, 0, 1, 1, 0, 0, 0, 1, 1, 1, 0), (1, 2, 1, 1, 1, 2, 1, 2, 0, 1, 1, 2, 1, 0, 2, 1, 2, 1, 1, 0), (2, 6, 3, 6, 6, 5, 2, 6, 0, 2, 6, 6, 2, 0, 5, 3, 5, 2, 3, 0))--1.0-False\n",
      "((1, 0, 0, 1, 1, 0, 1, 1, 0, 0, 1, 1, 0, 0, 1, 0, 0, 1, 0, 1, 1, 1, 0, 0, 0, 0, 0, 0, 1, 0, 1, 0, 0, 1, 0, 1, 0, 1, 1, 1, 0, 1, 1, 0, 0, 0, 1, 1, 1, 0), (1, 2, 1, 1, 1, 2, 1, 2, 1, 1, 1, 2, 1, 0, 2, 1, 2, 1, 1, 0), (2, 6, 3, 6, 6, 5, 2, 6, 3, 2, 6, 6, 2, 0, 5, 3, 5, 2, 3, 0))--1.0-False\n",
      "((1, 0, 0, 1, 1, 0, 1, 1, 0, 0, 1, 1, 0, 0, 1, 0, 0, 1, 0, 1, 1, 1, 0, 0, 0, 0, 0, 0, 1, 0, 1, 0, 0, 1, 0, 1, 0, 1, 1, 1, 0, 1, 1, 0, 0, 1, 1, 1, 1, 0), (1, 2, 2, 1, 1, 2, 1, 2, 1, 1, 1, 2, 1, 0, 2, 1, 2, 1, 1, 0), (2, 6, 6, 6, 6, 5, 2, 6, 3, 2, 6, 6, 2, 0, 5, 3, 5, 2, 3, 0))--1.0-False\n",
      "((1, 0, 0, 1, 1, 1, 1, 1, 0, 0, 1, 1, 0, 0, 1, 0, 0, 1, 0, 1, 1, 1, 0, 0, 0, 0, 0, 0, 1, 0, 1, 0, 0, 1, 0, 1, 0, 1, 1, 1, 0, 1, 1, 0, 0, 1, 1, 1, 1, 0), (1, 2, 2, 1, 1, 2, 1, 2, 1, 1, 1, 2, 1, 0, 2, 2, 2, 1, 1, 0), (2, 6, 6, 6, 6, 5, 2, 6, 3, 2, 6, 6, 2, 0, 5, 5, 5, 2, 3, 0))--1.0469686461133434-False\n",
      "((1, 0, 0, 1, 1, 1, 1, 1, 0, 0, 1, 1, 0, 0, 1, 0, 0, 1, 0, 1, 1, 1, 0, 0, 0, 0, 0, 0, 1, 0, 1, 0, 0, 1, 0, 1, 0, 1, 1, 1, 0, 1, 1, 1, 0, 1, 1, 1, 1, 0), (1, 2, 2, 1, 1, 2, 1, 2, 1, 2, 1, 2, 1, 0, 2, 2, 2, 1, 1, 0), (2, 6, 6, 6, 6, 5, 2, 6, 3, 5, 6, 6, 2, 0, 5, 5, 5, 2, 3, 0))--0.9530313538866566-False\n",
      "((1, 0, 0, 1, 1, 1, 1, 1, 0, 0, 1, 1, 0, 0, 1, 0, 0, 1, 0, 1, 1, 1, 0, 0, 1, 0, 0, 0, 1, 0, 1, 0, 0, 1, 0, 1, 0, 1, 1, 1, 0, 1, 1, 1, 0, 1, 1, 1, 1, 0), (1, 2, 2, 1, 1, 2, 2, 2, 1, 2, 1, 2, 1, 0, 2, 2, 2, 1, 1, 0), (2, 6, 6, 6, 6, 5, 5, 6, 3, 5, 6, 6, 2, 0, 5, 5, 5, 2, 3, 0))--0.9530313538866566-False\n",
      "((1, 0, 0, 1, 1, 1, 1, 1, 0, 0, 1, 1, 0, 0, 1, 0, 0, 1, 0, 1, 1, 1, 0, 0, 1, 0, 0, 0, 1, 0, 1, 0, 0, 1, 0, 1, 0, 1, 1, 1, 0, 1, 1, 1, 1, 1, 1, 1, 1, 0), (1, 2, 2, 1, 1, 2, 2, 2, 1, 2, 1, 2, 1, 0, 2, 2, 2, 1, 1, 1), (2, 6, 6, 6, 6, 5, 5, 6, 3, 5, 6, 6, 2, 0, 5, 5, 5, 2, 3, 2))--1.0-False\n",
      "((1, 0, 0, 1, 1, 1, 1, 1, 0, 0, 1, 1, 0, 0, 1, 0, 0, 1, 0, 1, 1, 1, 0, 0, 1, 0, 1, 0, 1, 0, 1, 0, 0, 1, 0, 1, 0, 1, 1, 1, 0, 1, 1, 1, 1, 1, 1, 1, 1, 0), (2, 2, 2, 1, 1, 2, 2, 2, 1, 2, 1, 2, 1, 0, 2, 2, 2, 1, 1, 1), (4, 6, 6, 6, 6, 5, 5, 6, 3, 5, 6, 6, 2, 0, 5, 5, 5, 2, 3, 2))--1.0-False\n",
      "((1, 0, 0, 1, 1, 1, 1, 1, 0, 0, 1, 1, 0, 1, 1, 0, 0, 1, 0, 1, 1, 1, 0, 0, 1, 0, 1, 0, 1, 0, 1, 0, 0, 1, 0, 1, 0, 1, 1, 1, 0, 1, 1, 1, 1, 1, 1, 1, 1, 0), (2, 2, 2, 1, 1, 2, 2, 2, 1, 2, 1, 2, 1, 0, 2, 2, 2, 1, 1, 2), (4, 6, 6, 6, 6, 5, 5, 6, 3, 5, 6, 6, 2, 0, 5, 5, 5, 2, 3, 4))--1.0-False\n",
      "((1, 0, 0, 1, 1, 1, 1, 1, 0, 0, 1, 1, 0, 1, 1, 0, 0, 1, 0, 1, 1, 1, 0, 0, 1, 0, 1, 0, 1, 0, 1, 0, 0, 1, 0, 1, 1, 1, 1, 1, 0, 1, 1, 1, 1, 1, 1, 1, 1, 0), (2, 2, 2, 1, 1, 2, 2, 2, 1, 2, 1, 2, 2, 0, 2, 2, 2, 1, 1, 2), (4, 6, 6, 6, 6, 5, 5, 6, 3, 5, 6, 6, 5, 0, 5, 5, 5, 2, 3, 4))--0.9530313538866566-False\n",
      "((1, 0, 0, 1, 1, 1, 1, 1, 0, 0, 1, 1, 0, 1, 1, 0, 0, 1, 0, 1, 1, 1, 0, 0, 1, 0, 1, 1, 1, 0, 1, 0, 0, 1, 0, 1, 1, 1, 1, 1, 0, 1, 1, 1, 1, 1, 1, 1, 1, 0), (2, 2, 2, 1, 1, 2, 2, 2, 2, 2, 1, 2, 2, 0, 2, 2, 2, 1, 1, 2), (4, 6, 6, 6, 6, 5, 5, 6, 5, 5, 6, 6, 5, 0, 5, 5, 5, 2, 3, 4))--1.0469686461133434-False\n",
      "((1, 0, 0, 1, 1, 1, 1, 1, 0, 0, 1, 1, 0, 1, 1, 0, 1, 1, 0, 1, 1, 1, 0, 0, 1, 0, 1, 1, 1, 0, 1, 0, 0, 1, 0, 1, 1, 1, 1, 1, 0, 1, 1, 1, 1, 1, 1, 1, 1, 0), (3, 2, 2, 1, 1, 2, 2, 2, 2, 2, 1, 2, 2, 0, 2, 2, 2, 1, 1, 2), (6, 6, 6, 6, 6, 5, 5, 6, 5, 5, 6, 6, 5, 0, 5, 5, 5, 2, 3, 4))--1.130635103908138-False\n",
      "((1, 0, 0, 1, 1, 1, 1, 1, 0, 0, 1, 1, 0, 1, 1, 0, 1, 1, 0, 1, 1, 1, 0, 0, 1, 0, 1, 1, 1, 0, 1, 1, 0, 1, 0, 1, 1, 1, 1, 1, 0, 1, 1, 1, 1, 1, 1, 1, 1, 0), (3, 2, 2, 1, 1, 2, 2, 2, 2, 2, 1, 2, 2, 1, 2, 2, 2, 1, 1, 2), (6, 6, 6, 6, 6, 5, 5, 6, 5, 5, 6, 6, 5, 6, 5, 5, 5, 2, 3, 4))--1.0-False\n",
      "((1, 0, 0, 1, 1, 1, 1, 1, 0, 0, 1, 1, 0, 1, 1, 0, 1, 1, 0, 1, 1, 1, 0, 0, 1, 0, 1, 1, 1, 1, 1, 1, 0, 1, 0, 1, 1, 1, 1, 1, 0, 1, 1, 1, 1, 1, 1, 1, 1, 0), (3, 2, 2, 1, 1, 2, 2, 2, 2, 2, 1, 2, 2, 1, 2, 2, 2, 1, 1, 3), (6, 6, 6, 6, 6, 5, 5, 6, 5, 5, 6, 6, 5, 6, 5, 5, 5, 2, 3, 6))--1.130635103908138-False\n",
      "((1, 0, 0, 1, 1, 1, 1, 1, 0, 1, 1, 1, 0, 1, 1, 0, 1, 1, 0, 1, 1, 1, 0, 0, 1, 0, 1, 1, 1, 1, 1, 1, 0, 1, 0, 1, 1, 1, 1, 1, 0, 1, 1, 1, 1, 1, 1, 1, 1, 0), (3, 2, 2, 1, 1, 2, 2, 2, 2, 2, 1, 2, 2, 1, 2, 2, 2, 1, 2, 3), (6, 6, 6, 6, 6, 5, 5, 6, 5, 5, 6, 6, 5, 6, 5, 5, 5, 2, 6, 6))--1.0-False\n",
      "((1, 0, 0, 1, 1, 1, 1, 1, 0, 1, 1, 1, 0, 1, 1, 0, 1, 1, 0, 1, 1, 1, 0, 0, 1, 0, 1, 1, 1, 1, 1, 1, 0, 1, 0, 1, 1, 1, 1, 1, 1, 1, 1, 1, 1, 1, 1, 1, 1, 0), (3, 2, 2, 1, 1, 2, 2, 2, 2, 2, 1, 2, 2, 1, 2, 2, 2, 2, 2, 3), (6, 6, 6, 6, 6, 5, 5, 6, 5, 5, 6, 6, 5, 6, 5, 5, 5, 4, 6, 6))--1.0-False\n",
      "((1, 1, 0, 1, 1, 1, 1, 1, 0, 1, 1, 1, 0, 1, 1, 0, 1, 1, 0, 1, 1, 1, 0, 0, 1, 0, 1, 1, 1, 1, 1, 1, 0, 1, 0, 1, 1, 1, 1, 1, 1, 1, 1, 1, 1, 1, 1, 1, 1, 0), (3, 2, 2, 1, 1, 2, 2, 2, 2, 2, 1, 2, 2, 1, 2, 2, 2, 3, 2, 3), (6, 6, 6, 6, 6, 5, 5, 6, 5, 5, 6, 6, 5, 6, 5, 5, 5, 6, 6, 6))--1.130635103908138-True\n"
     ]
    }
   ],
   "source": [
    "env = LogisticsEnv(50, 20,3, 1, 1)\n",
    "\n",
    "for a in arr:\n",
    "    next_state, reward, done, _ = env.step(a)\n",
    "\n",
    "    if reward != 0:\n",
    "        print(next_state, reward, done, sep='-')"
   ]
  },
  {
   "cell_type": "code",
   "execution_count": 177,
   "metadata": {},
   "outputs": [],
   "source": [
    "def get_actions_number(action_space):\n",
    "    actions_number = 1\n",
    "    for d in action_space.nvec:\n",
    "        actions_number *= d\n",
    "    return actions_number"
   ]
  },
  {
   "cell_type": "code",
   "execution_count": 229,
   "metadata": {},
   "outputs": [],
   "source": [
    "def get_actions_map_dict(action_space):\n",
    "    index = 0\n",
    "    actions_dict = {}\n",
    "    r, c, p = action_space.nvec\n",
    "    for i in range(r):\n",
    "        for j in range(c):\n",
    "            for k in range(p):\n",
    "                actions_dict[index] = (i, j, k)\n",
    "                index += 1\n",
    "    return actions_dict"
   ]
  },
  {
   "cell_type": "code",
   "execution_count": 256,
   "metadata": {},
   "outputs": [
    {
     "data": {
      "text/plain": [
       "array([50, 20,  3])"
      ]
     },
     "execution_count": 256,
     "metadata": {},
     "output_type": "execute_result"
    }
   ],
   "source": [
    "action_space.nvec"
   ]
  },
  {
   "cell_type": "code",
   "execution_count": 239,
   "metadata": {},
   "outputs": [
    {
     "data": {
      "text/plain": [
       "3000"
      ]
     },
     "execution_count": 239,
     "metadata": {},
     "output_type": "execute_result"
    }
   ],
   "source": [
    "actions_number = get_actions_number(action_space)\n",
    "actions_number"
   ]
  },
  {
   "cell_type": "code",
   "execution_count": 240,
   "metadata": {},
   "outputs": [],
   "source": [
    "A = np.ones(action_space.nvec, dtype=float) * 0.1 / actions_number\n",
    "A[(2, 3, 2)] += (1.0 - 0.1)"
   ]
  },
  {
   "cell_type": "code",
   "execution_count": 263,
   "metadata": {},
   "outputs": [
    {
     "data": {
      "text/plain": [
       "array([[0, 0, 0],\n",
       "       [0, 0, 0],\n",
       "       [0, 0, 0],\n",
       "       [0, 0, 2],\n",
       "       [0, 0, 0],\n",
       "       [0, 0, 0],\n",
       "       [0, 0, 0],\n",
       "       [0, 0, 0],\n",
       "       [0, 0, 0],\n",
       "       [0, 0, 0],\n",
       "       [0, 0, 0],\n",
       "       [0, 0, 0],\n",
       "       [0, 0, 0],\n",
       "       [0, 0, 0],\n",
       "       [0, 0, 0],\n",
       "       [0, 0, 0],\n",
       "       [0, 0, 0],\n",
       "       [0, 0, 0],\n",
       "       [0, 0, 0],\n",
       "       [0, 0, 0]], dtype=int64)"
      ]
     },
     "execution_count": 263,
     "metadata": {},
     "output_type": "execute_result"
    }
   ],
   "source": [
    "np.argmax(A, axis=0)"
   ]
  },
  {
   "cell_type": "code",
   "execution_count": 241,
   "metadata": {},
   "outputs": [
    {
     "data": {
      "text/plain": [
       "3000"
      ]
     },
     "execution_count": 241,
     "metadata": {},
     "output_type": "execute_result"
    }
   ],
   "source": [
    "len(A.flatten())"
   ]
  },
  {
   "cell_type": "code",
   "execution_count": 242,
   "metadata": {},
   "outputs": [
    {
     "data": {
      "text/plain": [
       "0.9999999999999895"
      ]
     },
     "execution_count": 242,
     "metadata": {},
     "output_type": "execute_result"
    }
   ],
   "source": [
    "p = A.flatten()\n",
    "sum(p)"
   ]
  },
  {
   "cell_type": "code",
   "execution_count": 243,
   "metadata": {},
   "outputs": [
    {
     "data": {
      "text/plain": [
       "1.0"
      ]
     },
     "execution_count": 243,
     "metadata": {},
     "output_type": "execute_result"
    }
   ],
   "source": [
    "p.sum()"
   ]
  },
  {
   "cell_type": "code",
   "execution_count": 254,
   "metadata": {},
   "outputs": [
    {
     "data": {
      "text/plain": [
       "131"
      ]
     },
     "execution_count": 254,
     "metadata": {},
     "output_type": "execute_result"
    }
   ],
   "source": [
    "np.random.choice(np.arange(len(A.flatten())), p=p)"
   ]
  },
  {
   "cell_type": "code",
   "execution_count": 255,
   "metadata": {},
   "outputs": [
    {
     "data": {
      "text/plain": [
       "(47, 3, 2)"
      ]
     },
     "execution_count": 255,
     "metadata": {},
     "output_type": "execute_result"
    }
   ],
   "source": [
    "actions_dict = get_actions_map_dict(action_space)\n",
    "actions_dict[2831]"
   ]
  },
  {
   "cell_type": "code",
   "execution_count": 258,
   "metadata": {},
   "outputs": [
    {
     "data": {
      "text/plain": [
       "(2, 3, 2)"
      ]
     },
     "execution_count": 258,
     "metadata": {},
     "output_type": "execute_result"
    }
   ],
   "source": [
    "np.unravel_index(131, action_space.nvec)"
   ]
  },
  {
   "cell_type": "code",
   "execution_count": 252,
   "metadata": {},
   "outputs": [
    {
     "data": {
      "text/plain": [
       "3.3333333333333335e-05"
      ]
     },
     "execution_count": 252,
     "metadata": {},
     "output_type": "execute_result"
    }
   ],
   "source": [
    "A[(47,3,2)]"
   ]
  },
  {
   "cell_type": "code",
   "execution_count": 172,
   "metadata": {},
   "outputs": [],
   "source": [
    "def make_epsilon_greedy_policy(Q, epsilon, dA, nA):\n",
    "    \"\"\"\n",
    "    Creates an epsilon-greedy policy based on a given Q-function and epsilon.\n",
    "\n",
    "    Args:\n",
    "        Q: A dictionary that maps from state -> action-values.\n",
    "            Each value is a numpy array of length nA (see below)\n",
    "        epsilon: The probability to select a random action . float between 0 and 1.\n",
    "        dA: Dimensions of actions in the environment.\n",
    "        nA: Number of actions in the environment.\n",
    "\n",
    "    Returns:\n",
    "        A function that takes the observation as an argument and returns\n",
    "        the probabilities for each action in the form of a numpy array of length nA.\n",
    "\n",
    "    \"\"\"\n",
    "    def policy_fn(observation):\n",
    "        A = np.ones(dA, dtype=float) * epsilon / nA\n",
    "        best_action = np.argmax(Q[observation])\n",
    "        A[best_action] += (1.0 - epsilon)\n",
    "        return A\n",
    "    return policy_fn"
   ]
  },
  {
   "cell_type": "code",
   "execution_count": 1,
   "metadata": {},
   "outputs": [],
   "source": [
    "def q_learning(env, num_episodes, discount_factor=1.0, alpha=0.5, epsilon=0.1):\n",
    "    \"\"\"\n",
    "    Q-Learning algorithm: Off-policy TD control. Finds the optimal greedy policy\n",
    "    while following an epsilon-greedy policy\n",
    "\n",
    "    Args:\n",
    "        env: OpenAI environment.\n",
    "        num_episodes: Number of episodes to run for.\n",
    "        discount_factor: Gamma discount factor.\n",
    "        alpha: TD learning rate.\n",
    "        epsilon: Chance the sample a random action. Float betwen 0 and 1.\n",
    "\n",
    "    Returns:\n",
    "        A tuple (Q, episode_lengths).\n",
    "        Q is the optimal action-value function, a dictionary mapping state -> action values.\n",
    "        stats is an EpisodeStats object with two numpy arrays for episode_lengths and episode_rewards.\n",
    "    \"\"\"\n",
    "\n",
    "    # The final action-value function.\n",
    "    # A nested dictionary that maps state -> (action -> action-value).\n",
    "    Q = defaultdict(lambda: np.zeros(env.action_space.nvec))\n",
    "\n",
    "    actions_number = get_actions_number(env.action_space)\n",
    "\n",
    "    # Keeps track of useful statistics\n",
    "    stats = EpisodeStats(\n",
    "        episode_lengths=np.zeros(num_episodes),\n",
    "        episode_rewards=np.zeros(num_episodes))\n",
    "\n",
    "    # The policy we're following\n",
    "    policy = make_epsilon_greedy_policy(Q, epsilon, env.action_space.nvec, actions_number)\n",
    "\n",
    "    for i_episode in range(num_episodes):\n",
    "        # Print out which episode we're on, useful for debugging.\n",
    "        if (i_episode + 1) % 100 == 0:\n",
    "            print(\"\\rEpisode {}/{}.\".format(i_episode + 1, num_episodes), end=\"\")\n",
    "            sys.stdout.flush()\n",
    "\n",
    "        # Reset the environment and pick the first action\n",
    "        state = env.reset()\n",
    "\n",
    "        # One step in the environment\n",
    "        # total_reward = 0.0\n",
    "        for t in itertools.count():\n",
    "\n",
    "            # Take a step\n",
    "            action_probs = policy(state)\n",
    "            action = np.random.choice(\n",
    "                np.arange(len(action_probs.flatten())), p=action_probs.flatten())\n",
    "            next_state, reward, done, _ = env.step(action)\n",
    "\n",
    "            # Update statistics\n",
    "            stats.episode_rewards[i_episode] += reward\n",
    "            stats.episode_lengths[i_episode] = t\n",
    "\n",
    "            # TD Update\n",
    "            best_next_action = np.argmax(Q[next_state])\n",
    "            td_target = reward + discount_factor * \\\n",
    "                Q[next_state][best_next_action]\n",
    "            td_delta = td_target - Q[state][action]\n",
    "            Q[state][action] += alpha * td_delta\n",
    "\n",
    "            if done:\n",
    "                break\n",
    "\n",
    "            state = next_state\n",
    "\n",
    "    return Q, stats"
   ]
  },
  {
   "cell_type": "code",
   "execution_count": 4,
   "metadata": {},
   "outputs": [],
   "source": [
    "q_learning.__init__"
   ]
  },
  {
   "cell_type": "code",
   "execution_count": 1,
   "metadata": {},
   "outputs": [],
   "source": [
    "import matplotlib.pyplot as plt\n",
    "import numpy as np\n",
    "import math"
   ]
  },
  {
   "cell_type": "code",
   "execution_count": null,
   "metadata": {},
   "outputs": [],
   "source": []
  },
  {
   "cell_type": "code",
   "execution_count": 2,
   "metadata": {},
   "outputs": [],
   "source": [
    "x = np.linspace(0, 10, 100)\n",
    "y = 1 / (1 + math.e ** (-x))\n",
    "z = 1 / (1 + math.e ** (x)) \n",
    "pg = 1 / (1 + math.e ** (-x * 0.6)) \n",
    "nl = 1 / (1 + math.e ** (x * 0.4))\n",
    "pl = 1 / (1 + math.e ** (-x * 0.4)) \n",
    "ng = 1 / (1 + math.e ** (x * 0.6))"
   ]
  },
  {
   "cell_type": "code",
   "execution_count": 3,
   "metadata": {},
   "outputs": [
    {
     "data": {
      "text/plain": [
       "(array([1.        , 1.00504724, 1.01007495, 1.01506376, 1.01999465,\n",
       "        1.02484915, 1.02960943, 1.0342585 , 1.03878033, 1.04315996,\n",
       "        1.04738363, 1.05143883, 1.05531439, 1.05900052, 1.06248886,\n",
       "        1.06577245, 1.06884576, 1.07170465, 1.07434636, 1.07676944,\n",
       "        1.07897367, 1.08096005, 1.08273065, 1.08428859, 1.08563791,\n",
       "        1.08678349, 1.08773098, 1.08848666, 1.08905739, 1.08945052,\n",
       "        1.08967376, 1.08973515, 1.08964296, 1.08940561, 1.08903161,\n",
       "        1.08852952, 1.08790786, 1.08717506, 1.08633945, 1.08540918,\n",
       "        1.08439224, 1.08329635, 1.08212901, 1.08089744, 1.07960858,\n",
       "        1.07826908, 1.07688526, 1.07546315, 1.07400846, 1.07252658,\n",
       "        1.0710226 , 1.06950127, 1.06796706, 1.06642415, 1.0648764 ,\n",
       "        1.0633274 , 1.06178049, 1.06023871, 1.05870488, 1.05718156,\n",
       "        1.05567109, 1.05417558, 1.05269697, 1.05123695, 1.04979706,\n",
       "        1.04837867, 1.04698296, 1.04561098, 1.04426363, 1.04294168,\n",
       "        1.04164576, 1.04037642, 1.03913405, 1.037919  , 1.03673149,\n",
       "        1.03557166, 1.0344396 , 1.03333529, 1.03225869, 1.03120966,\n",
       "        1.03018804, 1.02919361, 1.0282261 , 1.02728521, 1.02637061,\n",
       "        1.02548193, 1.02461879, 1.02378076, 1.02296742, 1.02217832,\n",
       "        1.02141298, 1.02067094, 1.0199517 , 1.01925477, 1.01857966,\n",
       "        1.01792585, 1.01729285, 1.01668014, 1.01608722, 1.01551359]),\n",
       " array([1.        , 0.99495276, 0.98992505, 0.98493624, 0.98000535,\n",
       "        0.97515085, 0.97039057, 0.9657415 , 0.96121967, 0.95684004,\n",
       "        0.95261637, 0.94856117, 0.94468561, 0.94099948, 0.93751114,\n",
       "        0.93422755, 0.93115424, 0.92829535, 0.92565364, 0.92323056,\n",
       "        0.92102633, 0.91903995, 0.91726935, 0.91571141, 0.91436209,\n",
       "        0.91321651, 0.91226902, 0.91151334, 0.91094261, 0.91054948,\n",
       "        0.91032624, 0.91026485, 0.91035704, 0.91059439, 0.91096839,\n",
       "        0.91147048, 0.91209214, 0.91282494, 0.91366055, 0.91459082,\n",
       "        0.91560776, 0.91670365, 0.91787099, 0.91910256, 0.92039142,\n",
       "        0.92173092, 0.92311474, 0.92453685, 0.92599154, 0.92747342,\n",
       "        0.9289774 , 0.93049873, 0.93203294, 0.93357585, 0.9351236 ,\n",
       "        0.9366726 , 0.93821951, 0.93976129, 0.94129512, 0.94281844,\n",
       "        0.94432891, 0.94582442, 0.94730303, 0.94876305, 0.95020294,\n",
       "        0.95162133, 0.95301704, 0.95438902, 0.95573637, 0.95705832,\n",
       "        0.95835424, 0.95962358, 0.96086595, 0.962081  , 0.96326851,\n",
       "        0.96442834, 0.9655604 , 0.96666471, 0.96774131, 0.96879034,\n",
       "        0.96981196, 0.97080639, 0.9717739 , 0.97271479, 0.97362939,\n",
       "        0.97451807, 0.97538121, 0.97621924, 0.97703258, 0.97782168,\n",
       "        0.97858702, 0.97932906, 0.9800483 , 0.98074523, 0.98142034,\n",
       "        0.98207415, 0.98270715, 0.98331986, 0.98391278, 0.98448641]))"
      ]
     },
     "execution_count": 3,
     "metadata": {},
     "output_type": "execute_result"
    }
   ],
   "source": [
    "pg + nl, pl + ng"
   ]
  },
  {
   "cell_type": "code",
   "execution_count": 7,
   "metadata": {},
   "outputs": [
    {
     "data": {
      "text/plain": [
       "[<matplotlib.lines.Line2D at 0x163a52db2e8>]"
      ]
     },
     "execution_count": 7,
     "metadata": {},
     "output_type": "execute_result"
    },
    {
     "data": {
      "image/png": "[encoded data removed]",
      "text/plain": [
       "<Figure size 432x288 with 1 Axes>"
      ]
     },
     "metadata": {},
     "output_type": "display_data"
    }
   ],
   "source": [
    "plt.plot(x, y * 100)\n",
    "plt.plot(x, z * 100)\n",
    "#plt.plot(x, m)\n",
    "#plt.plot(x, n)"
   ]
  },
  {
   "cell_type": "code",
   "execution_count": null,
   "metadata": {},
   "outputs": [],
   "source": []
  }
 ],
 "metadata": {
  "kernelspec": {
   "display_name": "Python 3",
   "language": "python",
   "name": "python3"
  },
  "language_info": {
   "codemirror_mode": {
    "name": "ipython",
    "version": 3
   },
   "file_extension": ".py",
   "mimetype": "text/x-python",
   "name": "python",
   "nbconvert_exporter": "python",
   "pygments_lexer": "ipython3",
   "version": "3.6.5"
  }
 },
 "nbformat": 4,
 "nbformat_minor": 2
}
