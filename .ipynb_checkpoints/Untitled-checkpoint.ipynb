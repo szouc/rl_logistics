{
 "cells": [
  {
   "cell_type": "code",
   "execution_count": 1,
   "metadata": {},
   "outputs": [],
   "source": [
    "%matplotlib inline\n",
    "\n",
    "import numpy as np\n",
    "import matplotlib\n",
    "import sys\n",
    "import math\n",
    "import gym\n",
    "from gym import spaces\n",
    "from gym.utils import seeding\n",
    "\n",
    "\n",
    "\n",
    "from collections import defaultdict\n",
    "if \"../\" not in sys.path:\n",
    "  sys.path.append(\"../\") \n",
    "\n",
    "\n",
    "matplotlib.style.use('ggplot')"
   ]
  },
  {
   "cell_type": "code",
   "execution_count": 2,
   "metadata": {},
   "outputs": [],
   "source": [
    "class Choice(gym.Space):\n",
    "\n",
    "    def __init__(self, choice):\n",
    "        self.choice = choice\n",
    "        gym.Space.__init__(self, (), np.int64)\n",
    "\n",
    "    def sample(self):\n",
    "        return gym.spaces.np_random.choice(self.choice)\n",
    "\n",
    "    def contains(self, x):\n",
    "        if isinstance(x, int):\n",
    "            as_int = x\n",
    "        elif isinstance(x, (np.generic, np.ndarray)) and (x.dtype.kind in np.typecodes['AllInteger'] and x.shape == ()):\n",
    "            as_int = int(x)\n",
    "        else:\n",
    "            return False\n",
    "        return as_int in self.choice\n",
    "\n",
    "    def __repr__(self):\n",
    "        return \"Choice({})\".format(self.choice)\n",
    "\n",
    "    def __eq__(self, other):\n",
    "        return self.choice == other.choice"
   ]
  },
  {
   "cell_type": "code",
   "execution_count": 117,
   "metadata": {},
   "outputs": [],
   "source": [
    "import numpy as np\n",
    "import math\n",
    "\n",
    "import gym\n",
    "from gym import spaces\n",
    "from gym.utils import seeding\n",
    "\n",
    "kinds = [2, 3, 6]\n",
    "\n",
    "\n",
    "class LogisticsEnv(gym.Env):\n",
    "    metadata = {\n",
    "        'render.modes': ['human', 'rgb_array'],\n",
    "        'video.frames_per_second': 30\n",
    "    }\n",
    "\n",
    "    def __init__(self, orders=10, vehicles=10, kinds=3, vehicle_beta=0.5, driver_beta=0.5):\n",
    "        self.vehicles = vehicles\n",
    "        self.orders = orders\n",
    "        self.kinds = kinds\n",
    "        self.vehicle_beta = vehicle_beta\n",
    "        self.driver_beta = driver_beta\n",
    "        self.action_space = spaces.MultiDiscrete(\n",
    "            (self.orders, self.vehicles, self.kinds))\n",
    "        self.observation_space = spaces.Tuple((spaces.MultiBinary(\n",
    "            self.orders), spaces.MultiBinary(self.vehicles), spaces.MultiDiscrete([7 for _ in range(self.vehicles)])))\n",
    "\n",
    "        self.seed()\n",
    "        self.reset()\n",
    "\n",
    "    def seed(self, seed=None):\n",
    "        self.np_random, seed = seeding.np_random(seed)\n",
    "        return [seed]\n",
    "\n",
    "    def step(self, action):\n",
    "        assert self.action_space.contains(\n",
    "            action), \"%r (%s) invalid\" % (action, type(action))\n",
    "\n",
    "        (order_index, vehicle_index, kind_index) = action\n",
    "        order_flags, vehicle_flags, vehicle_costs = self.state\n",
    "        cost = kinds[kind_index]\n",
    "\n",
    "        if order_flags[order_index] == 1:\n",
    "            reward = 0\n",
    "        elif vehicle_costs[vehicle_index] + cost > 6:\n",
    "            reward = 0\n",
    "        else:\n",
    "            vehicle_times = vehicle_flags[vehicle_index]\n",
    "            vi = vehicle_costs[vehicle_index]\n",
    "            vehicle_weight = vi / (cost + vi)\n",
    "            driver_weight = cost / (cost + vi)\n",
    "            reward = -1 * 1 / (1 + math.e ** (-vehicle_times * vehicle_weight * self.vehicle_beta)) + - \\\n",
    "                1 * 1 / (1 + math.e ** (vehicle_times *\n",
    "                                        driver_weight * self.driver_beta))\n",
    "\n",
    "            order_flags[order_index] = 1\n",
    "            vehicle_flags[vehicle_index] += 1\n",
    "            vehicle_costs[vehicle_index] += cost\n",
    "            self.state = (order_flags, vehicle_flags, vehicle_costs)\n",
    "\n",
    "        done = self._terminal()\n",
    "\n",
    "        return self._get_obs(self.state), reward, done, {}\n",
    "\n",
    "    def _get_obs(self, state):\n",
    "        tuple_state = tuple(tuple(s) for s in state)\n",
    "        return tuple_state\n",
    "\n",
    "    def reset(self):\n",
    "        self.state = (np.zeros((self.orders,), dtype=int),\n",
    "                      np.zeros((self.vehicles,), dtype=int),\n",
    "                      np.zeros((self.vehicles,), dtype=int))\n",
    "        return self._get_obs(self.state)\n",
    "\n",
    "    def _terminal(self):\n",
    "        s, _, v = self.state\n",
    "        return sum(s) == self.orders or min(v) >= 5\n"
   ]
  },
  {
   "cell_type": "code",
   "execution_count": 118,
   "metadata": {},
   "outputs": [],
   "source": [
    "vehicles = 10\n",
    "orders = 50\n",
    "action_space = spaces.MultiDiscrete((orders, vehicles,3))\n",
    "observation_space = spaces.Tuple((spaces.MultiBinary(orders), spaces.MultiBinary(vehicles), spaces.MultiDiscrete([7 for _ in range(vehicles)])))"
   ]
  },
  {
   "cell_type": "code",
   "execution_count": 84,
   "metadata": {},
   "outputs": [
    {
     "data": {
      "text/plain": [
       "(2, 3)"
      ]
     },
     "execution_count": 84,
     "metadata": {},
     "output_type": "execute_result"
    }
   ],
   "source": [
    "hh = np.array(((4, 2, 3),(1,2,3)))\n",
    "hh.shape"
   ]
  },
  {
   "cell_type": "code",
   "execution_count": 95,
   "metadata": {},
   "outputs": [
    {
     "data": {
      "text/plain": [
       "array([[1., 1.],\n",
       "       [1., 1.]])"
      ]
     },
     "execution_count": 95,
     "metadata": {},
     "output_type": "execute_result"
    }
   ],
   "source": [
    "B= np.ones([2,2])\n",
    "B"
   ]
  },
  {
   "cell_type": "code",
   "execution_count": 97,
   "metadata": {},
   "outputs": [
    {
     "data": {
      "text/plain": [
       "array([[0.1, 0.1],\n",
       "       [0.1, 0.1]])"
      ]
     },
     "execution_count": 97,
     "metadata": {},
     "output_type": "execute_result"
    }
   ],
   "source": [
    "C = B * 0.1\n",
    "C"
   ]
  },
  {
   "cell_type": "code",
   "execution_count": 104,
   "metadata": {},
   "outputs": [
    {
     "data": {
      "text/plain": [
       "array([[0.05, 0.1 ],\n",
       "       [0.05, 0.1 ]])"
      ]
     },
     "execution_count": 104,
     "metadata": {},
     "output_type": "execute_result"
    }
   ],
   "source": [
    "D = C / [2, 1]\n",
    "D"
   ]
  },
  {
   "cell_type": "code",
   "execution_count": 105,
   "metadata": {},
   "outputs": [
    {
     "data": {
      "text/plain": [
       "1"
      ]
     },
     "execution_count": 105,
     "metadata": {},
     "output_type": "execute_result"
    }
   ],
   "source": [
    "np.argmax(D)"
   ]
  },
  {
   "cell_type": "code",
   "execution_count": 106,
   "metadata": {},
   "outputs": [],
   "source": [
    "D  = defaultdict(list)"
   ]
  },
  {
   "cell_type": "code",
   "execution_count": 107,
   "metadata": {},
   "outputs": [],
   "source": [
    "D[(1, 2, 3)] = 5"
   ]
  },
  {
   "cell_type": "code",
   "execution_count": 115,
   "metadata": {},
   "outputs": [
    {
     "data": {
      "text/plain": [
       "defaultdict(list, {(1, 2, 3): 5, ((1, 2), 2, 3): 6, ((1, 2, 3), 2, 3): 6})"
      ]
     },
     "execution_count": 115,
     "metadata": {},
     "output_type": "execute_result"
    }
   ],
   "source": [
    "D[(tuple([1, 2, 3]), 2, 3)] = 6\n",
    "D"
   ]
  },
  {
   "cell_type": "code",
   "execution_count": 114,
   "metadata": {},
   "outputs": [
    {
     "data": {
      "text/plain": [
       "(1, 2, 3)"
      ]
     },
     "execution_count": 114,
     "metadata": {},
     "output_type": "execute_result"
    }
   ],
   "source": [
    "tuple([1, 2, 3])"
   ]
  },
  {
   "cell_type": "code",
   "execution_count": 88,
   "metadata": {},
   "outputs": [
    {
     "data": {
      "text/plain": [
       "array([[0., 0.]])"
      ]
     },
     "execution_count": 88,
     "metadata": {},
     "output_type": "execute_result"
    }
   ],
   "source": [
    "action_space.nvec\n",
    "np.zeros(np.asarray([1, 2]))"
   ]
  },
  {
   "cell_type": "code",
   "execution_count": 75,
   "metadata": {},
   "outputs": [
    {
     "data": {
      "text/plain": [
       "1500"
      ]
     },
     "execution_count": 75,
     "metadata": {},
     "output_type": "execute_result"
    }
   ],
   "source": [
    "from operator import mul\n",
    "from functools import reduce\n",
    "reduce(mul, action_space.nvec)"
   ]
  },
  {
   "cell_type": "code",
   "execution_count": 119,
   "metadata": {},
   "outputs": [],
   "source": [
    "arr = []\n",
    "for _ in range(1000):\n",
    "    arr.append(action_space.sample())"
   ]
  },
  {
   "cell_type": "code",
   "execution_count": 124,
   "metadata": {},
   "outputs": [
    {
     "name": "stdout",
     "output_type": "stream",
     "text": [
      "((0, 0, 0, 0, 0, 0, 0, 0, 0, 0, 0, 0, 0, 0, 0, 0, 0, 0, 0, 0, 0, 0, 0, 0, 0, 0, 0, 0, 0, 0, 0, 0, 0, 0, 0, 0, 0, 0, 0, 0, 0, 0, 0, 0, 0, 0, 1, 0, 0, 0), (0, 0, 0, 0, 0, 0, 0, 1, 0, 0), (0, 0, 0, 0, 0, 0, 0, 2, 0, 0))--1.0-False\n",
      "((0, 0, 0, 0, 0, 0, 0, 0, 0, 0, 0, 0, 0, 1, 0, 0, 0, 0, 0, 0, 0, 0, 0, 0, 0, 0, 0, 0, 0, 0, 0, 0, 0, 0, 0, 0, 0, 0, 0, 0, 0, 0, 0, 0, 0, 0, 1, 0, 0, 0), (0, 1, 0, 0, 0, 0, 0, 1, 0, 0), (0, 2, 0, 0, 0, 0, 0, 2, 0, 0))--1.0-False\n",
      "((0, 0, 0, 0, 0, 0, 0, 0, 0, 0, 0, 0, 0, 1, 0, 0, 0, 0, 0, 0, 0, 0, 0, 0, 0, 0, 0, 0, 0, 0, 0, 0, 0, 0, 0, 0, 0, 1, 0, 0, 0, 0, 0, 0, 0, 0, 1, 0, 0, 0), (0, 1, 0, 0, 0, 0, 0, 1, 1, 0), (0, 2, 0, 0, 0, 0, 0, 2, 6, 0))--1.0-False\n",
      "((0, 0, 0, 0, 0, 0, 0, 0, 0, 0, 0, 0, 0, 1, 0, 0, 0, 0, 0, 0, 0, 0, 0, 0, 0, 0, 0, 0, 0, 0, 0, 0, 0, 1, 0, 0, 0, 1, 0, 0, 0, 0, 0, 0, 0, 0, 1, 0, 0, 0), (0, 1, 0, 0, 0, 0, 0, 1, 1, 1), (0, 2, 0, 0, 0, 0, 0, 2, 6, 3))--1.0-False\n",
      "((0, 0, 0, 0, 0, 0, 0, 0, 0, 0, 0, 0, 0, 1, 0, 0, 0, 0, 0, 0, 0, 0, 0, 0, 0, 0, 0, 0, 0, 0, 0, 0, 0, 1, 0, 0, 0, 1, 0, 0, 0, 0, 0, 0, 0, 0, 1, 1, 0, 0), (0, 1, 0, 0, 0, 0, 0, 1, 1, 2), (0, 2, 0, 0, 0, 0, 0, 2, 6, 6))--1.0-False\n",
      "((0, 0, 0, 0, 0, 0, 0, 0, 0, 0, 0, 0, 0, 1, 0, 0, 0, 0, 0, 0, 0, 0, 0, 0, 0, 0, 1, 0, 0, 0, 0, 0, 0, 1, 0, 0, 0, 1, 0, 0, 0, 0, 0, 0, 0, 0, 1, 1, 0, 0), (0, 1, 1, 0, 0, 0, 0, 1, 1, 2), (0, 2, 3, 0, 0, 0, 0, 2, 6, 6))--1.0-False\n",
      "((0, 0, 0, 0, 0, 0, 0, 0, 0, 0, 0, 0, 0, 1, 0, 0, 0, 0, 0, 0, 0, 0, 1, 0, 0, 0, 1, 0, 0, 0, 0, 0, 0, 1, 0, 0, 0, 1, 0, 0, 0, 0, 0, 0, 0, 0, 1, 1, 0, 0), (0, 1, 1, 0, 0, 0, 0, 2, 1, 2), (0, 2, 3, 0, 0, 0, 0, 4, 6, 6))--1.0-False\n",
      "((0, 0, 0, 0, 0, 0, 0, 0, 0, 0, 0, 0, 0, 1, 0, 0, 0, 0, 0, 0, 0, 0, 1, 0, 0, 0, 1, 0, 0, 0, 0, 0, 0, 1, 0, 0, 0, 1, 0, 0, 0, 0, 0, 0, 0, 1, 1, 1, 0, 0), (0, 1, 1, 1, 0, 0, 0, 2, 1, 2), (0, 2, 3, 6, 0, 0, 0, 4, 6, 6))--1.0-False\n",
      "((0, 0, 1, 0, 0, 0, 0, 0, 0, 0, 0, 0, 0, 1, 0, 0, 0, 0, 0, 0, 0, 0, 1, 0, 0, 0, 1, 0, 0, 0, 0, 0, 0, 1, 0, 0, 0, 1, 0, 0, 0, 0, 0, 0, 0, 1, 1, 1, 0, 0), (1, 1, 1, 1, 0, 0, 0, 2, 1, 2), (6, 2, 3, 6, 0, 0, 0, 4, 6, 6))--1.0-False\n",
      "((0, 0, 1, 0, 0, 0, 1, 0, 0, 0, 0, 0, 0, 1, 0, 0, 0, 0, 0, 0, 0, 0, 1, 0, 0, 0, 1, 0, 0, 0, 0, 0, 0, 1, 0, 0, 0, 1, 0, 0, 0, 0, 0, 0, 0, 1, 1, 1, 0, 0), (1, 1, 1, 1, 0, 0, 0, 3, 1, 2), (6, 2, 3, 6, 0, 0, 0, 6, 6, 6))--1.130635103908138-False\n",
      "((0, 0, 1, 0, 0, 0, 1, 0, 0, 0, 0, 0, 0, 1, 0, 0, 0, 0, 0, 0, 0, 0, 1, 0, 0, 0, 1, 0, 0, 0, 0, 0, 0, 1, 1, 0, 0, 1, 0, 0, 0, 0, 0, 0, 0, 1, 1, 1, 0, 0), (1, 2, 1, 1, 0, 0, 0, 3, 1, 2), (6, 5, 3, 6, 0, 0, 0, 6, 6, 6))--0.9530313538866566-False\n",
      "((0, 0, 1, 0, 0, 0, 1, 0, 0, 0, 0, 0, 0, 1, 0, 0, 0, 0, 0, 0, 0, 0, 1, 0, 0, 0, 1, 0, 0, 0, 0, 0, 0, 1, 1, 0, 0, 1, 0, 1, 0, 0, 0, 0, 0, 1, 1, 1, 0, 0), (1, 2, 1, 1, 1, 0, 0, 3, 1, 2), (6, 5, 3, 6, 6, 0, 0, 6, 6, 6))--1.0-False\n",
      "((0, 0, 1, 0, 0, 0, 1, 0, 0, 0, 0, 0, 0, 1, 0, 0, 0, 0, 0, 0, 0, 0, 1, 0, 0, 0, 1, 0, 0, 0, 0, 0, 0, 1, 1, 0, 0, 1, 0, 1, 0, 0, 1, 0, 0, 1, 1, 1, 0, 0), (1, 2, 1, 1, 1, 0, 1, 3, 1, 2), (6, 5, 3, 6, 6, 0, 6, 6, 6, 6))--1.0-False\n",
      "((0, 0, 1, 0, 1, 0, 1, 0, 0, 0, 0, 0, 0, 1, 0, 0, 0, 0, 0, 0, 0, 0, 1, 0, 0, 0, 1, 0, 0, 0, 0, 0, 0, 1, 1, 0, 0, 1, 0, 1, 0, 0, 1, 0, 0, 1, 1, 1, 0, 0), (1, 2, 2, 1, 1, 0, 1, 3, 1, 2), (6, 5, 6, 6, 6, 0, 6, 6, 6, 6))--1.0-False\n",
      "((0, 1, 1, 0, 1, 0, 1, 0, 0, 0, 0, 0, 0, 1, 0, 0, 0, 0, 0, 0, 0, 0, 1, 0, 0, 0, 1, 0, 0, 0, 0, 0, 0, 1, 1, 0, 0, 1, 0, 1, 0, 0, 1, 0, 0, 1, 1, 1, 0, 0), (1, 2, 2, 1, 1, 1, 1, 3, 1, 2), (6, 5, 6, 6, 6, 2, 6, 6, 6, 6))--1.0-False\n",
      "((0, 1, 1, 0, 1, 0, 1, 0, 0, 0, 1, 0, 0, 1, 0, 0, 0, 0, 0, 0, 0, 0, 1, 0, 0, 0, 1, 0, 0, 0, 0, 0, 0, 1, 1, 0, 0, 1, 0, 1, 0, 0, 1, 0, 0, 1, 1, 1, 0, 0), (1, 2, 2, 1, 1, 2, 1, 3, 1, 2), (6, 5, 6, 6, 6, 5, 6, 6, 6, 6))--0.9530313538866566-True\n"
     ]
    }
   ],
   "source": [
    "env = LogisticsEnv(50, 10,3, 1, 1)\n",
    "for a in arr:\n",
    "    next_state, reward, done, _ = env.step(a)\n",
    "    if reward != 0:\n",
    "        print(next_state, reward, done, sep='-')"
   ]
  },
  {
   "cell_type": "code",
   "execution_count": 125,
   "metadata": {},
   "outputs": [
    {
     "data": {
      "text/plain": [
       "defaultdict(list,\n",
       "            {(1, 2, 3): 5,\n",
       "             ((1, 2), 2, 3): 6,\n",
       "             ((1, 2, 3), 2, 3): 6,\n",
       "             ((0,\n",
       "               0,\n",
       "               0,\n",
       "               0,\n",
       "               0,\n",
       "               0,\n",
       "               0,\n",
       "               0,\n",
       "               0,\n",
       "               0,\n",
       "               0,\n",
       "               0,\n",
       "               0,\n",
       "               0,\n",
       "               0,\n",
       "               0,\n",
       "               0,\n",
       "               0,\n",
       "               0,\n",
       "               0,\n",
       "               0,\n",
       "               0,\n",
       "               0,\n",
       "               0,\n",
       "               0,\n",
       "               0,\n",
       "               0,\n",
       "               0,\n",
       "               0,\n",
       "               0,\n",
       "               0,\n",
       "               0,\n",
       "               0,\n",
       "               0,\n",
       "               0,\n",
       "               0,\n",
       "               0,\n",
       "               0,\n",
       "               0,\n",
       "               0,\n",
       "               0,\n",
       "               0,\n",
       "               0,\n",
       "               0,\n",
       "               0,\n",
       "               0,\n",
       "               1,\n",
       "               0,\n",
       "               0,\n",
       "               0),\n",
       "              (0, 0, 0, 0, 0, 0, 0, 1, 0, 0),\n",
       "              (0, 0, 0, 0, 0, 0, 0, 2, 0, 0)): 18,\n",
       "             ((0,\n",
       "               0,\n",
       "               0,\n",
       "               0,\n",
       "               0,\n",
       "               0,\n",
       "               0,\n",
       "               0,\n",
       "               0,\n",
       "               0,\n",
       "               0,\n",
       "               0,\n",
       "               0,\n",
       "               1,\n",
       "               0,\n",
       "               0,\n",
       "               0,\n",
       "               0,\n",
       "               0,\n",
       "               0,\n",
       "               0,\n",
       "               0,\n",
       "               0,\n",
       "               0,\n",
       "               0,\n",
       "               0,\n",
       "               0,\n",
       "               0,\n",
       "               0,\n",
       "               0,\n",
       "               0,\n",
       "               0,\n",
       "               0,\n",
       "               0,\n",
       "               0,\n",
       "               0,\n",
       "               0,\n",
       "               0,\n",
       "               0,\n",
       "               0,\n",
       "               0,\n",
       "               0,\n",
       "               0,\n",
       "               0,\n",
       "               0,\n",
       "               0,\n",
       "               1,\n",
       "               0,\n",
       "               0,\n",
       "               0),\n",
       "              (0, 1, 0, 0, 0, 0, 0, 1, 0, 0),\n",
       "              (0, 2, 0, 0, 0, 0, 0, 2, 0, 0)): 18,\n",
       "             ((0,\n",
       "               0,\n",
       "               0,\n",
       "               0,\n",
       "               0,\n",
       "               0,\n",
       "               0,\n",
       "               0,\n",
       "               0,\n",
       "               0,\n",
       "               0,\n",
       "               0,\n",
       "               0,\n",
       "               1,\n",
       "               0,\n",
       "               0,\n",
       "               0,\n",
       "               0,\n",
       "               0,\n",
       "               0,\n",
       "               0,\n",
       "               0,\n",
       "               0,\n",
       "               0,\n",
       "               0,\n",
       "               0,\n",
       "               0,\n",
       "               0,\n",
       "               0,\n",
       "               0,\n",
       "               0,\n",
       "               0,\n",
       "               0,\n",
       "               0,\n",
       "               0,\n",
       "               0,\n",
       "               0,\n",
       "               1,\n",
       "               0,\n",
       "               0,\n",
       "               0,\n",
       "               0,\n",
       "               0,\n",
       "               0,\n",
       "               0,\n",
       "               0,\n",
       "               1,\n",
       "               0,\n",
       "               0,\n",
       "               0),\n",
       "              (0, 1, 0, 0, 0, 0, 0, 1, 1, 0),\n",
       "              (0, 2, 0, 0, 0, 0, 0, 2, 6, 0)): 18,\n",
       "             ((0,\n",
       "               0,\n",
       "               0,\n",
       "               0,\n",
       "               0,\n",
       "               0,\n",
       "               0,\n",
       "               0,\n",
       "               0,\n",
       "               0,\n",
       "               0,\n",
       "               0,\n",
       "               0,\n",
       "               1,\n",
       "               0,\n",
       "               0,\n",
       "               0,\n",
       "               0,\n",
       "               0,\n",
       "               0,\n",
       "               0,\n",
       "               0,\n",
       "               0,\n",
       "               0,\n",
       "               0,\n",
       "               0,\n",
       "               0,\n",
       "               0,\n",
       "               0,\n",
       "               0,\n",
       "               0,\n",
       "               0,\n",
       "               0,\n",
       "               1,\n",
       "               0,\n",
       "               0,\n",
       "               0,\n",
       "               1,\n",
       "               0,\n",
       "               0,\n",
       "               0,\n",
       "               0,\n",
       "               0,\n",
       "               0,\n",
       "               0,\n",
       "               0,\n",
       "               1,\n",
       "               0,\n",
       "               0,\n",
       "               0),\n",
       "              (0, 1, 0, 0, 0, 0, 0, 1, 1, 1),\n",
       "              (0, 2, 0, 0, 0, 0, 0, 2, 6, 3)): 18,\n",
       "             ((0,\n",
       "               0,\n",
       "               0,\n",
       "               0,\n",
       "               0,\n",
       "               0,\n",
       "               0,\n",
       "               0,\n",
       "               0,\n",
       "               0,\n",
       "               0,\n",
       "               0,\n",
       "               0,\n",
       "               1,\n",
       "               0,\n",
       "               0,\n",
       "               0,\n",
       "               0,\n",
       "               0,\n",
       "               0,\n",
       "               0,\n",
       "               0,\n",
       "               0,\n",
       "               0,\n",
       "               0,\n",
       "               0,\n",
       "               0,\n",
       "               0,\n",
       "               0,\n",
       "               0,\n",
       "               0,\n",
       "               0,\n",
       "               0,\n",
       "               1,\n",
       "               0,\n",
       "               0,\n",
       "               0,\n",
       "               1,\n",
       "               0,\n",
       "               0,\n",
       "               0,\n",
       "               0,\n",
       "               0,\n",
       "               0,\n",
       "               0,\n",
       "               0,\n",
       "               1,\n",
       "               1,\n",
       "               0,\n",
       "               0),\n",
       "              (0, 1, 0, 0, 0, 0, 0, 1, 1, 2),\n",
       "              (0, 2, 0, 0, 0, 0, 0, 2, 6, 6)): 19,\n",
       "             ((0,\n",
       "               0,\n",
       "               0,\n",
       "               0,\n",
       "               0,\n",
       "               0,\n",
       "               0,\n",
       "               0,\n",
       "               0,\n",
       "               0,\n",
       "               0,\n",
       "               0,\n",
       "               0,\n",
       "               1,\n",
       "               0,\n",
       "               0,\n",
       "               0,\n",
       "               0,\n",
       "               0,\n",
       "               0,\n",
       "               0,\n",
       "               0,\n",
       "               0,\n",
       "               0,\n",
       "               0,\n",
       "               0,\n",
       "               1,\n",
       "               0,\n",
       "               0,\n",
       "               0,\n",
       "               0,\n",
       "               0,\n",
       "               0,\n",
       "               1,\n",
       "               0,\n",
       "               0,\n",
       "               0,\n",
       "               1,\n",
       "               0,\n",
       "               0,\n",
       "               0,\n",
       "               0,\n",
       "               0,\n",
       "               0,\n",
       "               0,\n",
       "               0,\n",
       "               1,\n",
       "               1,\n",
       "               0,\n",
       "               0),\n",
       "              (0, 1, 1, 0, 0, 0, 0, 1, 1, 2),\n",
       "              (0, 2, 3, 0, 0, 0, 0, 2, 6, 6)): 18,\n",
       "             ((0,\n",
       "               0,\n",
       "               0,\n",
       "               0,\n",
       "               0,\n",
       "               0,\n",
       "               0,\n",
       "               0,\n",
       "               0,\n",
       "               0,\n",
       "               0,\n",
       "               0,\n",
       "               0,\n",
       "               1,\n",
       "               0,\n",
       "               0,\n",
       "               0,\n",
       "               0,\n",
       "               0,\n",
       "               0,\n",
       "               0,\n",
       "               0,\n",
       "               1,\n",
       "               0,\n",
       "               0,\n",
       "               0,\n",
       "               1,\n",
       "               0,\n",
       "               0,\n",
       "               0,\n",
       "               0,\n",
       "               0,\n",
       "               0,\n",
       "               1,\n",
       "               0,\n",
       "               0,\n",
       "               0,\n",
       "               1,\n",
       "               0,\n",
       "               0,\n",
       "               0,\n",
       "               0,\n",
       "               0,\n",
       "               0,\n",
       "               0,\n",
       "               0,\n",
       "               1,\n",
       "               1,\n",
       "               0,\n",
       "               0),\n",
       "              (0, 1, 1, 0, 0, 0, 0, 2, 1, 2),\n",
       "              (0, 2, 3, 0, 0, 0, 0, 4, 6, 6)): 19,\n",
       "             ((0,\n",
       "               0,\n",
       "               0,\n",
       "               0,\n",
       "               0,\n",
       "               0,\n",
       "               0,\n",
       "               0,\n",
       "               0,\n",
       "               0,\n",
       "               0,\n",
       "               0,\n",
       "               0,\n",
       "               1,\n",
       "               0,\n",
       "               0,\n",
       "               0,\n",
       "               0,\n",
       "               0,\n",
       "               0,\n",
       "               0,\n",
       "               0,\n",
       "               1,\n",
       "               0,\n",
       "               0,\n",
       "               0,\n",
       "               1,\n",
       "               0,\n",
       "               0,\n",
       "               0,\n",
       "               0,\n",
       "               0,\n",
       "               0,\n",
       "               1,\n",
       "               0,\n",
       "               0,\n",
       "               0,\n",
       "               1,\n",
       "               0,\n",
       "               0,\n",
       "               0,\n",
       "               0,\n",
       "               0,\n",
       "               0,\n",
       "               0,\n",
       "               1,\n",
       "               1,\n",
       "               1,\n",
       "               0,\n",
       "               0),\n",
       "              (0, 1, 1, 1, 0, 0, 0, 2, 1, 2),\n",
       "              (0, 2, 3, 6, 0, 0, 0, 4, 6, 6)): 22,\n",
       "             ((0,\n",
       "               0,\n",
       "               1,\n",
       "               0,\n",
       "               0,\n",
       "               0,\n",
       "               0,\n",
       "               0,\n",
       "               0,\n",
       "               0,\n",
       "               0,\n",
       "               0,\n",
       "               0,\n",
       "               1,\n",
       "               0,\n",
       "               0,\n",
       "               0,\n",
       "               0,\n",
       "               0,\n",
       "               0,\n",
       "               0,\n",
       "               0,\n",
       "               1,\n",
       "               0,\n",
       "               0,\n",
       "               0,\n",
       "               1,\n",
       "               0,\n",
       "               0,\n",
       "               0,\n",
       "               0,\n",
       "               0,\n",
       "               0,\n",
       "               1,\n",
       "               0,\n",
       "               0,\n",
       "               0,\n",
       "               1,\n",
       "               0,\n",
       "               0,\n",
       "               0,\n",
       "               0,\n",
       "               0,\n",
       "               0,\n",
       "               0,\n",
       "               1,\n",
       "               1,\n",
       "               1,\n",
       "               0,\n",
       "               0),\n",
       "              (1, 1, 1, 1, 0, 0, 0, 2, 1, 2),\n",
       "              (6, 2, 3, 6, 0, 0, 0, 4, 6, 6)): 18,\n",
       "             ((0,\n",
       "               0,\n",
       "               1,\n",
       "               0,\n",
       "               0,\n",
       "               0,\n",
       "               1,\n",
       "               0,\n",
       "               0,\n",
       "               0,\n",
       "               0,\n",
       "               0,\n",
       "               0,\n",
       "               1,\n",
       "               0,\n",
       "               0,\n",
       "               0,\n",
       "               0,\n",
       "               0,\n",
       "               0,\n",
       "               0,\n",
       "               0,\n",
       "               1,\n",
       "               0,\n",
       "               0,\n",
       "               0,\n",
       "               1,\n",
       "               0,\n",
       "               0,\n",
       "               0,\n",
       "               0,\n",
       "               0,\n",
       "               0,\n",
       "               1,\n",
       "               0,\n",
       "               0,\n",
       "               0,\n",
       "               1,\n",
       "               0,\n",
       "               0,\n",
       "               0,\n",
       "               0,\n",
       "               0,\n",
       "               0,\n",
       "               0,\n",
       "               1,\n",
       "               1,\n",
       "               1,\n",
       "               0,\n",
       "               0),\n",
       "              (1, 1, 1, 1, 0, 0, 0, 3, 1, 2),\n",
       "              (6, 2, 3, 6, 0, 0, 0, 6, 6, 6)): 23,\n",
       "             ((0,\n",
       "               0,\n",
       "               1,\n",
       "               0,\n",
       "               0,\n",
       "               0,\n",
       "               1,\n",
       "               0,\n",
       "               0,\n",
       "               0,\n",
       "               0,\n",
       "               0,\n",
       "               0,\n",
       "               1,\n",
       "               0,\n",
       "               0,\n",
       "               0,\n",
       "               0,\n",
       "               0,\n",
       "               0,\n",
       "               0,\n",
       "               0,\n",
       "               1,\n",
       "               0,\n",
       "               0,\n",
       "               0,\n",
       "               1,\n",
       "               0,\n",
       "               0,\n",
       "               0,\n",
       "               0,\n",
       "               0,\n",
       "               0,\n",
       "               1,\n",
       "               1,\n",
       "               0,\n",
       "               0,\n",
       "               1,\n",
       "               0,\n",
       "               0,\n",
       "               0,\n",
       "               0,\n",
       "               0,\n",
       "               0,\n",
       "               0,\n",
       "               1,\n",
       "               1,\n",
       "               1,\n",
       "               0,\n",
       "               0),\n",
       "              (1, 2, 1, 1, 0, 0, 0, 3, 1, 2),\n",
       "              (6, 5, 3, 6, 0, 0, 0, 6, 6, 6)): 18,\n",
       "             ((0,\n",
       "               0,\n",
       "               1,\n",
       "               0,\n",
       "               0,\n",
       "               0,\n",
       "               1,\n",
       "               0,\n",
       "               0,\n",
       "               0,\n",
       "               0,\n",
       "               0,\n",
       "               0,\n",
       "               1,\n",
       "               0,\n",
       "               0,\n",
       "               0,\n",
       "               0,\n",
       "               0,\n",
       "               0,\n",
       "               0,\n",
       "               0,\n",
       "               1,\n",
       "               0,\n",
       "               0,\n",
       "               0,\n",
       "               1,\n",
       "               0,\n",
       "               0,\n",
       "               0,\n",
       "               0,\n",
       "               0,\n",
       "               0,\n",
       "               1,\n",
       "               1,\n",
       "               0,\n",
       "               0,\n",
       "               1,\n",
       "               0,\n",
       "               1,\n",
       "               0,\n",
       "               0,\n",
       "               0,\n",
       "               0,\n",
       "               0,\n",
       "               1,\n",
       "               1,\n",
       "               1,\n",
       "               0,\n",
       "               0),\n",
       "              (1, 2, 1, 1, 1, 0, 0, 3, 1, 2),\n",
       "              (6, 5, 3, 6, 6, 0, 0, 6, 6, 6)): 19,\n",
       "             ((0,\n",
       "               0,\n",
       "               1,\n",
       "               0,\n",
       "               0,\n",
       "               0,\n",
       "               1,\n",
       "               0,\n",
       "               0,\n",
       "               0,\n",
       "               0,\n",
       "               0,\n",
       "               0,\n",
       "               1,\n",
       "               0,\n",
       "               0,\n",
       "               0,\n",
       "               0,\n",
       "               0,\n",
       "               0,\n",
       "               0,\n",
       "               0,\n",
       "               1,\n",
       "               0,\n",
       "               0,\n",
       "               0,\n",
       "               1,\n",
       "               0,\n",
       "               0,\n",
       "               0,\n",
       "               0,\n",
       "               0,\n",
       "               0,\n",
       "               1,\n",
       "               1,\n",
       "               0,\n",
       "               0,\n",
       "               1,\n",
       "               0,\n",
       "               1,\n",
       "               0,\n",
       "               0,\n",
       "               1,\n",
       "               0,\n",
       "               0,\n",
       "               1,\n",
       "               1,\n",
       "               1,\n",
       "               0,\n",
       "               0),\n",
       "              (1, 2, 1, 1, 1, 0, 1, 3, 1, 2),\n",
       "              (6, 5, 3, 6, 6, 0, 6, 6, 6, 6)): 29,\n",
       "             ((0,\n",
       "               0,\n",
       "               1,\n",
       "               0,\n",
       "               1,\n",
       "               0,\n",
       "               1,\n",
       "               0,\n",
       "               0,\n",
       "               0,\n",
       "               0,\n",
       "               0,\n",
       "               0,\n",
       "               1,\n",
       "               0,\n",
       "               0,\n",
       "               0,\n",
       "               0,\n",
       "               0,\n",
       "               0,\n",
       "               0,\n",
       "               0,\n",
       "               1,\n",
       "               0,\n",
       "               0,\n",
       "               0,\n",
       "               1,\n",
       "               0,\n",
       "               0,\n",
       "               0,\n",
       "               0,\n",
       "               0,\n",
       "               0,\n",
       "               1,\n",
       "               1,\n",
       "               0,\n",
       "               0,\n",
       "               1,\n",
       "               0,\n",
       "               1,\n",
       "               0,\n",
       "               0,\n",
       "               1,\n",
       "               0,\n",
       "               0,\n",
       "               1,\n",
       "               1,\n",
       "               1,\n",
       "               0,\n",
       "               0),\n",
       "              (1, 2, 2, 1, 1, 0, 1, 3, 1, 2),\n",
       "              (6, 5, 6, 6, 6, 0, 6, 6, 6, 6)): 41,\n",
       "             ((0,\n",
       "               1,\n",
       "               1,\n",
       "               0,\n",
       "               1,\n",
       "               0,\n",
       "               1,\n",
       "               0,\n",
       "               0,\n",
       "               0,\n",
       "               0,\n",
       "               0,\n",
       "               0,\n",
       "               1,\n",
       "               0,\n",
       "               0,\n",
       "               0,\n",
       "               0,\n",
       "               0,\n",
       "               0,\n",
       "               0,\n",
       "               0,\n",
       "               1,\n",
       "               0,\n",
       "               0,\n",
       "               0,\n",
       "               1,\n",
       "               0,\n",
       "               0,\n",
       "               0,\n",
       "               0,\n",
       "               0,\n",
       "               0,\n",
       "               1,\n",
       "               1,\n",
       "               0,\n",
       "               0,\n",
       "               1,\n",
       "               0,\n",
       "               1,\n",
       "               0,\n",
       "               0,\n",
       "               1,\n",
       "               0,\n",
       "               0,\n",
       "               1,\n",
       "               1,\n",
       "               1,\n",
       "               0,\n",
       "               0),\n",
       "              (1, 2, 2, 1, 1, 1, 1, 3, 1, 2),\n",
       "              (6, 5, 6, 6, 6, 2, 6, 6, 6, 6)): 50,\n",
       "             ((0,\n",
       "               1,\n",
       "               1,\n",
       "               0,\n",
       "               1,\n",
       "               0,\n",
       "               1,\n",
       "               0,\n",
       "               0,\n",
       "               0,\n",
       "               1,\n",
       "               0,\n",
       "               0,\n",
       "               1,\n",
       "               0,\n",
       "               0,\n",
       "               0,\n",
       "               0,\n",
       "               0,\n",
       "               0,\n",
       "               0,\n",
       "               0,\n",
       "               1,\n",
       "               0,\n",
       "               0,\n",
       "               0,\n",
       "               1,\n",
       "               0,\n",
       "               0,\n",
       "               0,\n",
       "               0,\n",
       "               0,\n",
       "               0,\n",
       "               1,\n",
       "               1,\n",
       "               0,\n",
       "               0,\n",
       "               1,\n",
       "               0,\n",
       "               1,\n",
       "               0,\n",
       "               0,\n",
       "               1,\n",
       "               0,\n",
       "               0,\n",
       "               1,\n",
       "               1,\n",
       "               1,\n",
       "               0,\n",
       "               0),\n",
       "              (1, 2, 2, 1, 1, 2, 1, 3, 1, 2),\n",
       "              (6, 5, 6, 6, 6, 5, 6, 6, 6, 6)): 924})"
      ]
     },
     "execution_count": 125,
     "metadata": {},
     "output_type": "execute_result"
    }
   ],
   "source": [
    "D"
   ]
  },
  {
   "cell_type": "code",
   "execution_count": 121,
   "metadata": {},
   "outputs": [
    {
     "data": {
      "text/plain": [
       "((0,\n",
       "  0,\n",
       "  0,\n",
       "  0,\n",
       "  0,\n",
       "  0,\n",
       "  0,\n",
       "  0,\n",
       "  0,\n",
       "  0,\n",
       "  0,\n",
       "  0,\n",
       "  0,\n",
       "  0,\n",
       "  0,\n",
       "  0,\n",
       "  0,\n",
       "  0,\n",
       "  0,\n",
       "  0,\n",
       "  0,\n",
       "  0,\n",
       "  0,\n",
       "  0,\n",
       "  0,\n",
       "  0,\n",
       "  0,\n",
       "  0,\n",
       "  0,\n",
       "  0,\n",
       "  0,\n",
       "  0,\n",
       "  0,\n",
       "  0,\n",
       "  0,\n",
       "  0,\n",
       "  0,\n",
       "  0,\n",
       "  0,\n",
       "  0,\n",
       "  0,\n",
       "  0,\n",
       "  0,\n",
       "  0,\n",
       "  0,\n",
       "  0,\n",
       "  0,\n",
       "  0,\n",
       "  0,\n",
       "  0),\n",
       " (0, 0, 0, 0, 0, 0, 0, 0, 0, 0),\n",
       " (0, 0, 0, 0, 0, 0, 0, 0, 0, 0))"
      ]
     },
     "execution_count": 121,
     "metadata": {},
     "output_type": "execute_result"
    }
   ],
   "source": [
    "env.reset()"
   ]
  },
  {
   "cell_type": "code",
   "execution_count": 65,
   "metadata": {},
   "outputs": [
    {
     "name": "stdout",
     "output_type": "stream",
     "text": [
      "MultiBinary(50)\n",
      "MultiBinary(10)\n",
      "MultiDiscrete([7 7 7 7 7 7 7 7 7 7])\n"
     ]
    }
   ],
   "source": [
    "for space in env.observation_space.spaces:\n",
    "    print(space)"
   ]
  },
  {
   "cell_type": "code",
   "execution_count": 12,
   "metadata": {},
   "outputs": [
    {
     "data": {
      "text/plain": [
       "Tuple(MultiBinary(50), MultiBinary(10), MultiDiscrete([7 7 7 7 7 7 7 7 7 7]))"
      ]
     },
     "execution_count": 12,
     "metadata": {},
     "output_type": "execute_result"
    }
   ],
   "source": [
    "observation_space"
   ]
  },
  {
   "cell_type": "code",
   "execution_count": 14,
   "metadata": {},
   "outputs": [],
   "source": [
    "s, a, c = action_space.sample()"
   ]
  },
  {
   "cell_type": "code",
   "execution_count": 15,
   "metadata": {},
   "outputs": [
    {
     "data": {
      "text/plain": [
       "30"
      ]
     },
     "execution_count": 15,
     "metadata": {},
     "output_type": "execute_result"
    }
   ],
   "source": [
    "s"
   ]
  },
  {
   "cell_type": "code",
   "execution_count": 257,
   "metadata": {},
   "outputs": [],
   "source": [
    "Q = defaultdict(lambda: np.zeros((10, 5)))"
   ]
  },
  {
   "cell_type": "code",
   "execution_count": 259,
   "metadata": {},
   "outputs": [],
   "source": [
    "Q[1][(0 ,3)] =25"
   ]
  },
  {
   "cell_type": "code",
   "execution_count": 260,
   "metadata": {},
   "outputs": [
    {
     "data": {
      "text/plain": [
       "defaultdict(<function __main__.<lambda>()>,\n",
       "            {1: array([[ 0.,  0.,  0., 25.,  0.],\n",
       "                    [ 0.,  0.,  0.,  0.,  0.],\n",
       "                    [ 0.,  0.,  0.,  0.,  0.],\n",
       "                    [ 0.,  0.,  0.,  0.,  0.],\n",
       "                    [ 0.,  0.,  0.,  0.,  0.],\n",
       "                    [ 0.,  0.,  0.,  0.,  0.],\n",
       "                    [ 0.,  0.,  0.,  0.,  0.],\n",
       "                    [ 0.,  0.,  0.,  0.,  0.],\n",
       "                    [ 0.,  0.,  0.,  0.,  0.],\n",
       "                    [ 0.,  0.,  0.,  0.,  0.]])})"
      ]
     },
     "execution_count": 260,
     "metadata": {},
     "output_type": "execute_result"
    }
   ],
   "source": [
    "Q"
   ]
  },
  {
   "cell_type": "code",
   "execution_count": 263,
   "metadata": {},
   "outputs": [
    {
     "data": {
      "text/plain": [
       "{(1, 2): 1, (2, 3): 4}"
      ]
     },
     "execution_count": 263,
     "metadata": {},
     "output_type": "execute_result"
    }
   ],
   "source": [
    "tmpD = {(1,2): 1}\n",
    "tmpD[(2,3)] = 4\n",
    "tmpD"
   ]
  },
  {
   "cell_type": "code",
   "execution_count": 171,
   "metadata": {},
   "outputs": [
    {
     "data": {
      "text/plain": [
       "(array([0, 0, 0, 1, 1, 1, 0, 1, 0, 0, 0, 1, 0, 0, 0, 0, 1, 0, 0, 0, 0, 1,\n",
       "        0, 1, 0, 0, 1, 1, 0, 0, 1, 0, 0, 1, 1, 1, 1, 1, 1, 0, 0, 1, 1, 0,\n",
       "        0, 0, 1, 1, 0, 0], dtype=int8),\n",
       " array([0, 1, 0, 1, 0, 1, 1, 0, 1, 1], dtype=int8),\n",
       " array([2, 3, 1, 3, 4, 2, 6, 5, 0, 1], dtype=int8))"
      ]
     },
     "execution_count": 171,
     "metadata": {},
     "output_type": "execute_result"
    }
   ],
   "source": [
    "ss = observation_space.sample()\n",
    "ss"
   ]
  },
  {
   "cell_type": "code",
   "execution_count": 178,
   "metadata": {},
   "outputs": [
    {
     "data": {
      "text/plain": [
       "[[[0,\n",
       "   0,\n",
       "   0,\n",
       "   1,\n",
       "   1,\n",
       "   1,\n",
       "   0,\n",
       "   1,\n",
       "   0,\n",
       "   0,\n",
       "   0,\n",
       "   1,\n",
       "   0,\n",
       "   0,\n",
       "   0,\n",
       "   0,\n",
       "   1,\n",
       "   0,\n",
       "   0,\n",
       "   0,\n",
       "   0,\n",
       "   1,\n",
       "   0,\n",
       "   1,\n",
       "   0,\n",
       "   0,\n",
       "   1,\n",
       "   1,\n",
       "   0,\n",
       "   0,\n",
       "   1,\n",
       "   0,\n",
       "   0,\n",
       "   1,\n",
       "   1,\n",
       "   1,\n",
       "   1,\n",
       "   1,\n",
       "   1,\n",
       "   0,\n",
       "   0,\n",
       "   1,\n",
       "   1,\n",
       "   0,\n",
       "   0,\n",
       "   0,\n",
       "   1,\n",
       "   1,\n",
       "   0,\n",
       "   0]],\n",
       " [[0, 1, 0, 1, 0, 1, 1, 0, 1, 1]],\n",
       " [[2, 3, 1, 3, 4, 2, 6, 5, 0, 1]]]"
      ]
     },
     "execution_count": 178,
     "metadata": {},
     "output_type": "execute_result"
    }
   ],
   "source": [
    "sss = observation_space.to_jsonable((ss,))\n",
    "sss"
   ]
  },
  {
   "cell_type": "code",
   "execution_count": 264,
   "metadata": {},
   "outputs": [
    {
     "data": {
      "text/plain": [
       "([[16, 1]], [6])"
      ]
     },
     "execution_count": 264,
     "metadata": {},
     "output_type": "execute_result"
    }
   ],
   "source": [
    "aa = env.action_space.sample()\n",
    "aaa = env.action_space.to_jsonable((aa,))\n",
    "aaaa = tuple(aaa)\n",
    "aaaa"
   ]
  },
  {
   "cell_type": "code",
   "execution_count": 267,
   "metadata": {},
   "outputs": [
    {
     "ename": "TypeError",
     "evalue": "unhashable type: 'list'",
     "output_type": "error",
     "traceback": [
      "\u001b[1;31m---------------------------------------------------------------------------\u001b[0m",
      "\u001b[1;31mTypeError\u001b[0m                                 Traceback (most recent call last)",
      "\u001b[1;32m<ipython-input-267-0dd384a16a93>\u001b[0m in \u001b[0;36m<module>\u001b[1;34m()\u001b[0m\n\u001b[1;32m----> 1\u001b[1;33m \u001b[0mtmpD\u001b[0m\u001b[1;33m[\u001b[0m\u001b[1;33m(\u001b[0m\u001b[0maaa\u001b[0m\u001b[1;33m,\u001b[0m\u001b[1;33m)\u001b[0m\u001b[1;33m]\u001b[0m \u001b[1;33m=\u001b[0m \u001b[1;36m3\u001b[0m\u001b[1;33m\u001b[0m\u001b[0m\n\u001b[0m",
      "\u001b[1;31mTypeError\u001b[0m: unhashable type: 'list'"
     ]
    }
   ],
   "source": [
    "tmpD[(aaa,)] = 3"
   ]
  },
  {
   "cell_type": "code",
   "execution_count": 186,
   "metadata": {},
   "outputs": [
    {
     "data": {
      "text/plain": [
       "(1, 3)"
      ]
     },
     "execution_count": 186,
     "metadata": {},
     "output_type": "execute_result"
    }
   ],
   "source": [
    "la = [1, 3]\n",
    "tla = tuple(la)\n",
    "tla"
   ]
  },
  {
   "cell_type": "code",
   "execution_count": 200,
   "metadata": {},
   "outputs": [],
   "source": [
    "index = np.array(2)\n",
    "Q[tla][index] = 1"
   ]
  },
  {
   "cell_type": "code",
   "execution_count": 201,
   "metadata": {},
   "outputs": [
    {
     "data": {
      "text/plain": [
       "defaultdict(<function __main__.<lambda>()>,\n",
       "            {(1, 3): array([0., 0., 1., 0., 0.])})"
      ]
     },
     "execution_count": 201,
     "metadata": {},
     "output_type": "execute_result"
    }
   ],
   "source": [
    "Q"
   ]
  },
  {
   "cell_type": "code",
   "execution_count": 156,
   "metadata": {},
   "outputs": [
    {
     "data": {
      "text/plain": [
       "MultiDiscrete([7 7 7 7 7])"
      ]
     },
     "execution_count": 156,
     "metadata": {},
     "output_type": "execute_result"
    }
   ],
   "source": [
    "ms = gym.spaces.MultiDiscrete([7 for _ in range(5)])\n",
    "ms"
   ]
  },
  {
   "cell_type": "code",
   "execution_count": 158,
   "metadata": {},
   "outputs": [
    {
     "data": {
      "text/plain": [
       "array([3, 2, 3, 1, 6], dtype=int8)"
      ]
     },
     "execution_count": 158,
     "metadata": {},
     "output_type": "execute_result"
    }
   ],
   "source": [
    "a_ms = ms.sample()\n",
    "a_ms"
   ]
  },
  {
   "cell_type": "code",
   "execution_count": 160,
   "metadata": {},
   "outputs": [
    {
     "data": {
      "text/plain": [
       "[3, 2, 3, 1, 6]"
      ]
     },
     "execution_count": 160,
     "metadata": {},
     "output_type": "execute_result"
    }
   ],
   "source": [
    "a_ms_list = ms.to_jsonable(a_ms)\n",
    "a_ms_list"
   ]
  },
  {
   "cell_type": "code",
   "execution_count": 161,
   "metadata": {},
   "outputs": [
    {
     "data": {
      "text/plain": [
       "MultiBinary(5)"
      ]
     },
     "execution_count": 161,
     "metadata": {},
     "output_type": "execute_result"
    }
   ],
   "source": [
    "mb = gym.spaces.MultiBinary(5)\n",
    "mb"
   ]
  },
  {
   "cell_type": "code",
   "execution_count": 162,
   "metadata": {},
   "outputs": [
    {
     "data": {
      "text/plain": [
       "array([0, 0, 0, 1, 1], dtype=int8)"
      ]
     },
     "execution_count": 162,
     "metadata": {},
     "output_type": "execute_result"
    }
   ],
   "source": [
    "a_mb = mb.sample()\n",
    "a_mb"
   ]
  },
  {
   "cell_type": "code",
   "execution_count": 163,
   "metadata": {},
   "outputs": [
    {
     "data": {
      "text/plain": [
       "[0, 0, 0, 1, 1]"
      ]
     },
     "execution_count": 163,
     "metadata": {},
     "output_type": "execute_result"
    }
   ],
   "source": [
    "a_mb_list = mb.to_jsonable(a_mb)\n",
    "a_mb_list"
   ]
  },
  {
   "cell_type": "code",
   "execution_count": 18,
   "metadata": {},
   "outputs": [
    {
     "data": {
      "text/plain": [
       "'Johnn ran to [0. 0. 0. 0. 0.]'"
      ]
     },
     "execution_count": 18,
     "metadata": {},
     "output_type": "execute_result"
    }
   ],
   "source": [
    "q = defaultdict(lambda: np.zeros((5,)))\n",
    "q.update(name ='Johnn', action='ran')\n",
    "'%(name)s %(action)s to %(object)s' % q"
   ]
  },
  {
   "cell_type": "code",
   "execution_count": 30,
   "metadata": {},
   "outputs": [
    {
     "data": {
      "text/plain": [
       "array([0.02, 0.02, 0.02, 0.02, 0.02])"
      ]
     },
     "execution_count": 30,
     "metadata": {},
     "output_type": "execute_result"
    }
   ],
   "source": [
    "nA = 5\n",
    "epsilon = 0.1\n",
    "A = np.ones(nA, dtype=float) * epsilon / nA\n",
    "A"
   ]
  },
  {
   "cell_type": "code",
   "execution_count": 25,
   "metadata": {},
   "outputs": [
    {
     "data": {
      "text/plain": [
       "dict_items([(0, 5), (1, 5), (2, 5), (3, 5), (4, 5), (5, 5), (6, 5), (7, 5), (8, 5), (9, 5)])"
      ]
     },
     "execution_count": 25,
     "metadata": {},
     "output_type": "execute_result"
    }
   ],
   "source": [
    "q.items()"
   ]
  },
  {
   "cell_type": "code",
   "execution_count": 129,
   "metadata": {},
   "outputs": [],
   "source": [
    "A = np.ones(np.array((50 , 10 , 3)), dtype=float)"
   ]
  },
  {
   "cell_type": "code",
   "execution_count": 9,
   "metadata": {},
   "outputs": [],
   "source": [
    "def make_epsilon_greedy_policy(Q, epsilon, nA):\n",
    "    \"\"\"\n",
    "    Creates an epsilon-greedy policy based on a given Q-function and epsilon.\n",
    "    \n",
    "    Args:\n",
    "        Q: A dictionary that maps from state -> action-values.\n",
    "            Each value is a numpy array of length nA (see below)\n",
    "        epsilon: The probability to select a random action . float between 0 and 1.\n",
    "        nA: Number of actions in the environment.\n",
    "    \n",
    "    Returns:\n",
    "        A function that takes the observation as an argument and returns\n",
    "        the probabilities for each action in the form of a numpy array of length nA.\n",
    "    \n",
    "    \"\"\"\n",
    "    def policy_fn(observation):\n",
    "        A = np.ones(nA, dtype=float) * epsilon / nA\n",
    "        best_action = np.argmax(Q[observation])\n",
    "        A[best_action] += (1.0 - epsilon)\n",
    "        return A\n",
    "    return policy_fn"
   ]
  },
  {
   "cell_type": "code",
   "execution_count": null,
   "metadata": {},
   "outputs": [],
   "source": [
    "def mc_control_epsilon_greedy(env, num_episodes, discount_factor=1.0, epsilon=0.1):\n",
    "    \"\"\"\n",
    "    Monte Carlo Control using Epsilon-Greedy policies.\n",
    "    Finds an optimal epsilon-greedy policy.\n",
    "    \n",
    "    Args:\n",
    "        env: OpenAI gym environment.\n",
    "        num_episodes: Number of episodes to sample.\n",
    "        discount_factor: Gamma discount factor.\n",
    "        epsilon: Chance the sample a random action. Float betwen 0 and 1.\n",
    "    \n",
    "    Returns:\n",
    "        A tuple (Q, policy).\n",
    "        Q is a dictionary mapping state -> action values.\n",
    "        policy is a function that takes an observation as an argument and returns\n",
    "        action probabilities\n",
    "    \"\"\"\n",
    "    \n",
    "    # Keeps track of sum and count of returns for each state\n",
    "    # to calculate an average. We could use an array to save all\n",
    "    # returns (like in the book) but that's memory inefficient.\n",
    "    returns_sum = defaultdict(float)\n",
    "    returns_count = defaultdict(float)\n",
    "    \n",
    "    # The final action-value function.\n",
    "    # A nested dictionary that maps state -> (action -> action-value).\n",
    "    Q = defaultdict(lambda: np.zeros(env.action_space.n))\n",
    "    \n",
    "    # The policy we're following\n",
    "    policy = make_epsilon_greedy_policy(Q, epsilon, env.action_space.n)\n",
    "    \n",
    "    for i_episode in range(1, num_episodes + 1):\n",
    "        # Print out which episode we're on, useful for debugging.\n",
    "        if i_episode % 1000 == 0:\n",
    "            print(\"\\rEpisode {}/{}.\".format(i_episode, num_episodes), end=\"\")\n",
    "            sys.stdout.flush()\n",
    "\n",
    "        # Generate an episode.\n",
    "        # An episode is an array of (state, action, reward) tuples\n",
    "        episode = []\n",
    "        state = env.reset()\n",
    "        for t in range(100):\n",
    "            probs = policy(state)\n",
    "            action = np.random.choice(np.arange(len(probs)), p=probs)\n",
    "            next_state, reward, done, _ = env.step(action)\n",
    "            episode.append((state, action, reward))\n",
    "            if done:\n",
    "                break\n",
    "            state = next_state\n",
    "\n",
    "        # Find all (state, action) pairs we've visited in this episode\n",
    "        # We convert each state to a tuple so that we can use it as a dict key\n",
    "        sa_in_episode = set([(tuple(x[0]), x[1]) for x in episode])\n",
    "        for state, action in sa_in_episode:\n",
    "            sa_pair = (state, action)\n",
    "            # Find the first occurance of the (state, action) pair in the episode\n",
    "            first_occurence_idx = next(i for i,x in enumerate(episode)\n",
    "                                       if x[0] == state and x[1] == action)\n",
    "            # Sum up all rewards since the first occurance\n",
    "            G = sum([x[2]*(discount_factor**i) for i,x in enumerate(episode[first_occurence_idx:])])\n",
    "            # Calculate average return for this state over all sampled episodes\n",
    "            returns_sum[sa_pair] += G\n",
    "            returns_count[sa_pair] += 1.0\n",
    "            Q[state][action] = returns_sum[sa_pair] / returns_count[sa_pair]\n",
    "        \n",
    "        # The policy is improved implicitly by changing the Q dictionary\n",
    "    \n",
    "    return Q, policy"
   ]
  },
  {
   "cell_type": "code",
   "execution_count": 59,
   "metadata": {},
   "outputs": [],
   "source": [
    "import matplotlib.pyplot as plt\n",
    "import numpy as np\n",
    "import math"
   ]
  },
  {
   "cell_type": "code",
   "execution_count": null,
   "metadata": {},
   "outputs": [],
   "source": []
  },
  {
   "cell_type": "code",
   "execution_count": 79,
   "metadata": {},
   "outputs": [],
   "source": [
    "x = np.linspace(0, 10, 100)\n",
    "y = 1 / (1 + math.e ** (-x))\n",
    "z = 1 / (1 + math.e ** (x)) \n",
    "pg = 1 / (1 + math.e ** (-x * 0.6)) \n",
    "nl = 1 / (1 + math.e ** (x * 0.4))\n",
    "pl = 1 / (1 + math.e ** (-x * 0.4)) \n",
    "ng = 1 / (1 + math.e ** (x * 0.6))"
   ]
  },
  {
   "cell_type": "code",
   "execution_count": 80,
   "metadata": {},
   "outputs": [
    {
     "data": {
      "text/plain": [
       "(array([1.        , 1.00504724, 1.01007495, 1.01506376, 1.01999465,\n",
       "        1.02484915, 1.02960943, 1.0342585 , 1.03878033, 1.04315996,\n",
       "        1.04738363, 1.05143883, 1.05531439, 1.05900052, 1.06248886,\n",
       "        1.06577245, 1.06884576, 1.07170465, 1.07434636, 1.07676944,\n",
       "        1.07897367, 1.08096005, 1.08273065, 1.08428859, 1.08563791,\n",
       "        1.08678349, 1.08773098, 1.08848666, 1.08905739, 1.08945052,\n",
       "        1.08967376, 1.08973515, 1.08964296, 1.08940561, 1.08903161,\n",
       "        1.08852952, 1.08790786, 1.08717506, 1.08633945, 1.08540918,\n",
       "        1.08439224, 1.08329635, 1.08212901, 1.08089744, 1.07960858,\n",
       "        1.07826908, 1.07688526, 1.07546315, 1.07400846, 1.07252658,\n",
       "        1.0710226 , 1.06950127, 1.06796706, 1.06642415, 1.0648764 ,\n",
       "        1.0633274 , 1.06178049, 1.06023871, 1.05870488, 1.05718156,\n",
       "        1.05567109, 1.05417558, 1.05269697, 1.05123695, 1.04979706,\n",
       "        1.04837867, 1.04698296, 1.04561098, 1.04426363, 1.04294168,\n",
       "        1.04164576, 1.04037642, 1.03913405, 1.037919  , 1.03673149,\n",
       "        1.03557166, 1.0344396 , 1.03333529, 1.03225869, 1.03120966,\n",
       "        1.03018804, 1.02919361, 1.0282261 , 1.02728521, 1.02637061,\n",
       "        1.02548193, 1.02461879, 1.02378076, 1.02296742, 1.02217832,\n",
       "        1.02141298, 1.02067094, 1.0199517 , 1.01925477, 1.01857966,\n",
       "        1.01792585, 1.01729285, 1.01668014, 1.01608722, 1.01551359]),\n",
       " array([1.        , 0.99495276, 0.98992505, 0.98493624, 0.98000535,\n",
       "        0.97515085, 0.97039057, 0.9657415 , 0.96121967, 0.95684004,\n",
       "        0.95261637, 0.94856117, 0.94468561, 0.94099948, 0.93751114,\n",
       "        0.93422755, 0.93115424, 0.92829535, 0.92565364, 0.92323056,\n",
       "        0.92102633, 0.91903995, 0.91726935, 0.91571141, 0.91436209,\n",
       "        0.91321651, 0.91226902, 0.91151334, 0.91094261, 0.91054948,\n",
       "        0.91032624, 0.91026485, 0.91035704, 0.91059439, 0.91096839,\n",
       "        0.91147048, 0.91209214, 0.91282494, 0.91366055, 0.91459082,\n",
       "        0.91560776, 0.91670365, 0.91787099, 0.91910256, 0.92039142,\n",
       "        0.92173092, 0.92311474, 0.92453685, 0.92599154, 0.92747342,\n",
       "        0.9289774 , 0.93049873, 0.93203294, 0.93357585, 0.9351236 ,\n",
       "        0.9366726 , 0.93821951, 0.93976129, 0.94129512, 0.94281844,\n",
       "        0.94432891, 0.94582442, 0.94730303, 0.94876305, 0.95020294,\n",
       "        0.95162133, 0.95301704, 0.95438902, 0.95573637, 0.95705832,\n",
       "        0.95835424, 0.95962358, 0.96086595, 0.962081  , 0.96326851,\n",
       "        0.96442834, 0.9655604 , 0.96666471, 0.96774131, 0.96879034,\n",
       "        0.96981196, 0.97080639, 0.9717739 , 0.97271479, 0.97362939,\n",
       "        0.97451807, 0.97538121, 0.97621924, 0.97703258, 0.97782168,\n",
       "        0.97858702, 0.97932906, 0.9800483 , 0.98074523, 0.98142034,\n",
       "        0.98207415, 0.98270715, 0.98331986, 0.98391278, 0.98448641]))"
      ]
     },
     "execution_count": 80,
     "metadata": {},
     "output_type": "execute_result"
    }
   ],
   "source": [
    "pg + nl, pl + ng"
   ]
  },
  {
   "cell_type": "code",
   "execution_count": 70,
   "metadata": {},
   "outputs": [
    {
     "data": {
      "text/plain": [
       "[<matplotlib.lines.Line2D at 0x1e38709a7b8>]"
      ]
     },
     "execution_count": 70,
     "metadata": {},
     "output_type": "execute_result"
    },
    {
     "data": {
      "image/png": "[encoded data removed]",
      "text/plain": [
       "<Figure size 432x288 with 1 Axes>"
      ]
     },
     "metadata": {},
     "output_type": "display_data"
    }
   ],
   "source": [
    "plt.plot(x, y)\n",
    "plt.plot(x, z)\n",
    "plt.plot(x, m)\n",
    "plt.plot(x, n)"
   ]
  },
  {
   "cell_type": "code",
   "execution_count": null,
   "metadata": {},
   "outputs": [],
   "source": []
  }
 ],
 "metadata": {
  "kernelspec": {
   "display_name": "Python 3",
   "language": "python",
   "name": "python3"
  },
  "language_info": {
   "codemirror_mode": {
    "name": "ipython",
    "version": 3
   },
   "file_extension": ".py",
   "mimetype": "text/x-python",
   "name": "python",
   "nbconvert_exporter": "python",
   "pygments_lexer": "ipython3",
   "version": "3.6.5"
  }
 },
 "nbformat": 4,
 "nbformat_minor": 2
}
